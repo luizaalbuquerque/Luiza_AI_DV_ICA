{
 "cells": [
  {
   "attachments": {
    "LogoCCT.png": {
     "image/png": "[encoded data removed]"
    }
   },
   "cell_type": "markdown",
   "id": "78515b52",
   "metadata": {},
   "source": [
    "![LogoCCT.png](attachment:LogoCCT.png)"
   ]
  },
  {
   "cell_type": "markdown",
   "id": "1edb5bb5",
   "metadata": {},
   "source": [
    "<h1>Artificial Intelligence & Data Visualisation </h1> </br>\n",
    "<b>Assigment Title: </b> AI_DV_Lv8_ICA_v5\n",
    "</br>\n",
    "<b>Lecturers : </b> David McQuaid and Sam Weiss\n",
    "</br> \n",
    "<b>Student: </b> Luiza Cavalcanti Albuquerque Brayner (2020309)"
   ]
  },
  {
   "cell_type": "markdown",
   "id": "d7e1d380",
   "metadata": {},
   "source": [
    "# Artificial Intelligence"
   ]
  },
  {
   "cell_type": "markdown",
   "id": "0851dfa7",
   "metadata": {},
   "source": [
    "# Scenario 1 \n",
    "### Suppose Ciara knows Python, and only has funds to hire three more people."
   ]
  },
  {
   "cell_type": "markdown",
   "id": "02dbfca3",
   "metadata": {},
   "source": [
    "<b> 1.\tUsing CSP (Constraint Satisfaction Problem) framework, discover if the above problem can be solved and if so detail who would be in hired. </b> \n"
   ]
  },
  {
   "cell_type": "code",
   "execution_count": 18,
   "id": "364e3ed0",
   "metadata": {},
   "outputs": [
    {
     "ename": "SyntaxError",
     "evalue": "invalid syntax (862001551.py, line 2)",
     "output_type": "error",
     "traceback": [
      "\u001b[0;36m  File \u001b[0;32m\"/var/folders/bl/19n82dfx2jdcfq3h1tg_4jzh0000gn/T/ipykernel_42121/862001551.py\"\u001b[0;36m, line \u001b[0;32m2\u001b[0m\n\u001b[0;31m    pip install python-constraint\u001b[0m\n\u001b[0m        ^\u001b[0m\n\u001b[0;31mSyntaxError\u001b[0m\u001b[0;31m:\u001b[0m invalid syntax\n"
     ]
    }
   ],
   "source": [
    "# installing library\n",
    "pip install python-constraint"
   ]
  },
  {
   "cell_type": "code",
   "execution_count": 19,
   "id": "c68fb3af",
   "metadata": {},
   "outputs": [
    {
     "name": "stdout",
     "output_type": "stream",
     "text": [
      "Solutions found:\n",
      "('Juan', 'Jim', 'Jane')\n",
      "('Juan', 'Jane', 'Bruce')\n",
      "('Jim', 'Jane', 'Mary')\n",
      "('Jane', 'Mary', 'Bruce')\n"
     ]
    }
   ],
   "source": [
    "from itertools import combinations\n",
    "\n",
    "# defining people and skills\n",
    "people = {\n",
    "    'Peter': ['Python', 'AI'],\n",
    "    'Juan': ['Web', 'AI'],\n",
    "    'Jim': ['AI', 'Systems'],\n",
    "    'Jane': ['Python', 'Database'],\n",
    "    'Mary': ['Web', 'AI'],\n",
    "    'Bruce': ['Systems', 'Python'],\n",
    "    'Anita': ['Photoshop', 'AI']\n",
    "}\n",
    "\n",
    "# defining working needs\n",
    "working_needs = {\n",
    "    'Python': 2,\n",
    "    'AI': 2,  \n",
    "    'Web': 1,\n",
    "    'Database': 1,\n",
    "    'Systems': 1\n",
    "}\n",
    "\n",
    "# store good match for vacancies\n",
    "solutions = []\n",
    "\n",
    "# nested loop to iterate through the range 1 to 4 (number of people considered) - now can hire one more person \n",
    "for people_found in range(1, 4):  # can hire 3 people\n",
    "    # inner loop, uses a function to generate the combination and then gets the names through a dictionary named (people)\n",
    "    # generated the combinations based on the outer loop current value\n",
    "    for combination in combinations(people.keys(), people_found):\n",
    "        # list of working skills to get the skills associated with each person\n",
    "        working_skills = [skills for person in combination for skills in people[person]]\n",
    "\n",
    "        # check if combination meets the skills \n",
    "        count_skills = {skills: working_skills.count(skills) for skills in set(working_skills)}\n",
    "        if all(count_skills.get(paper, 0) >= 1 for paper in working_needs.keys()):\n",
    "            # if it meets, then add to the solutions\n",
    "            solutions.append(combination)\n",
    "\n",
    "# show solutions to user \n",
    "if solutions:\n",
    "    print(\"Solutions found:\")\n",
    "    for final in solutions:\n",
    "        print(final)\n",
    "        \n",
    "# in case there is no solution, this message will be shown to the user\n",
    "else:\n",
    "      print(\"There is no solution to this problem\")"
   ]
  },
  {
   "cell_type": "markdown",
   "id": "bf829db9",
   "metadata": {},
   "source": [
    "# Scenario 2 \n",
    "### Suppose Ciara and Juan become partners, with the additional funds they can now employ four more people but must employ another AI Engineer, so they need 2 Python Programmers, 3 AI Engineers, 1 Web Designer, 1 Database Admin, and 1 Systems Engineer."
   ]
  },
  {
   "cell_type": "markdown",
   "id": "d59c9206",
   "metadata": {},
   "source": [
    "<b> 1.\tUsing any CSP (Constraint Satisfaction Problem) framework (using variables, value domains, and constraints), discover if the above problems can be solved and if so, detail who would be in hired. </b>"
   ]
  },
  {
   "cell_type": "code",
   "execution_count": 20,
   "id": "b64d4a9f",
   "metadata": {},
   "outputs": [
    {
     "name": "stdout",
     "output_type": "stream",
     "text": [
      "Solutions found:\n",
      "('Juan', 'Jim', 'Jane')\n",
      "('Juan', 'Jane', 'Bruce')\n",
      "('Jim', 'Jane', 'Mary')\n",
      "('Jane', 'Mary', 'Bruce')\n",
      "('Peter', 'Juan', 'Jim', 'Jane')\n",
      "('Peter', 'Juan', 'Jane', 'Bruce')\n",
      "('Peter', 'Jim', 'Jane', 'Mary')\n",
      "('Peter', 'Jane', 'Mary', 'Bruce')\n",
      "('Juan', 'Jim', 'Jane', 'Mary')\n",
      "('Juan', 'Jim', 'Jane', 'Bruce')\n",
      "('Juan', 'Jim', 'Jane', 'Anita')\n",
      "('Juan', 'Jane', 'Mary', 'Bruce')\n",
      "('Juan', 'Jane', 'Bruce', 'Anita')\n",
      "('Jim', 'Jane', 'Mary', 'Bruce')\n",
      "('Jim', 'Jane', 'Mary', 'Anita')\n",
      "('Jane', 'Mary', 'Bruce', 'Anita')\n"
     ]
    }
   ],
   "source": [
    "# imports \n",
    "from itertools import combinations\n",
    "\n",
    "# defining people and skills\n",
    "people = {\n",
    "    'Peter': ['Python', 'AI'],\n",
    "    'Juan': ['Web', 'AI'],\n",
    "    'Jim': ['AI', 'Systems'],\n",
    "    'Jane': ['Python', 'Database'],\n",
    "    'Mary': ['Web', 'AI'],\n",
    "    'Bruce': ['Systems', 'Python'],\n",
    "    'Anita': ['Photoshop', 'AI']\n",
    "}\n",
    "\n",
    "\n",
    "# defining working needs\n",
    "working_needs = {\n",
    "    'Python': 2,\n",
    "    'AI': 3,  # considering that now the count is 3 AI engineers\n",
    "    'Web': 1,\n",
    "    'Database': 1,\n",
    "    'Systems': 1\n",
    "}\n",
    "\n",
    "# store good match for vacancies\n",
    "solutions = []\n",
    "\n",
    "# nested loop to iterate through the range 1 to 4 (number of people considered) - now can hire one more person \n",
    "for people_found in range(1, 5):  # can hire 4 people\n",
    "    # inner loop, uses a function to generate the combination and then gets the names through a dictionary named (people)\n",
    "    # generated the combinations based on the outer loop current value\n",
    "    for combination in combinations(people.keys(), people_found):\n",
    "        # list of working skills to get the skills associated with each person\n",
    "        working_skills = [skills for person in combination for skills in people[person]]\n",
    "\n",
    "        # check if combination meets the skills \n",
    "        count_skills = {skills: working_skills.count(skills) for skills in set(working_skills)}\n",
    "        if all(count_skills.get(paper, 0) >= 1 for paper in working_needs.keys()):\n",
    "            # if it meets, then add to the solutions\n",
    "            solutions.append(combination)\n",
    "\n",
    "# show solutions to user \n",
    "if solutions:\n",
    "    print(\"Solutions found:\")\n",
    "    for final in solutions:\n",
    "        print(final)\n",
    "        \n",
    "# in case there is no solution, this message will be shown to the user\n",
    "else:\n",
    "      print(\"There is no solution to this problem\")"
   ]
  },
  {
   "cell_type": "markdown",
   "id": "fa4054fc",
   "metadata": {},
   "source": [
    "# Question 3\n",
    "### 3.\tThese problems be solved using several other algorithm’s we have studied in the module. Choose one of these algorithms and discuss your answer in detail including a proof of your hypothesis in code."
   ]
  },
  {
   "cell_type": "markdown",
   "id": "3cf80dd6",
   "metadata": {},
   "source": [
    "<b>For specific problem of hiring employees given the constrains and avilable candidates, I would choose Depth-First Search (DFS) between the studied algorithms. </b> "
   ]
  },
  {
   "cell_type": "markdown",
   "id": "6f8570c1",
   "metadata": {},
   "source": [
    "# Scenario 1 - DFS resolution"
   ]
  },
  {
   "cell_type": "code",
   "execution_count": 1,
   "id": "694806bb",
   "metadata": {
    "scrolled": true
   },
   "outputs": [
    {
     "ename": "NameError",
     "evalue": "name 'initial_roles' is not defined",
     "output_type": "error",
     "traceback": [
      "\u001b[0;31m---------------------------------------------------------------------------\u001b[0m",
      "\u001b[0;31mNameError\u001b[0m                                 Traceback (most recent call last)",
      "\u001b[0;32m/var/folders/bl/19n82dfx2jdcfq3h1tg_4jzh0000gn/T/ipykernel_42640/1083332433.py\u001b[0m in \u001b[0;36m<module>\u001b[0;34m\u001b[0m\n\u001b[1;32m     44\u001b[0m \u001b[0;34m\u001b[0m\u001b[0m\n\u001b[1;32m     45\u001b[0m \u001b[0;31m# Pperform Depth First Search for all unique solutions\u001b[0m\u001b[0;34m\u001b[0m\u001b[0;34m\u001b[0m\u001b[0m\n\u001b[0;32m---> 46\u001b[0;31m \u001b[0mdfs_unique_solutions\u001b[0m\u001b[0;34m(\u001b[0m\u001b[0minitial_roles\u001b[0m\u001b[0;34m,\u001b[0m \u001b[0;36m0\u001b[0m\u001b[0;34m,\u001b[0m \u001b[0;34m[\u001b[0m\u001b[0;34m]\u001b[0m\u001b[0;34m,\u001b[0m \u001b[0munique_solutions\u001b[0m\u001b[0;34m)\u001b[0m\u001b[0;34m\u001b[0m\u001b[0;34m\u001b[0m\u001b[0m\n\u001b[0m\u001b[1;32m     47\u001b[0m \u001b[0;34m\u001b[0m\u001b[0m\n\u001b[1;32m     48\u001b[0m \u001b[0;34m\u001b[0m\u001b[0m\n",
      "\u001b[0;31mNameError\u001b[0m: name 'initial_roles' is not defined"
     ]
    }
   ],
   "source": [
    "from collections import defaultdict\n",
    "\n",
    "# define the abilities of each candidate\n",
    "candidates = {\n",
    "    \"Peter\": [\"Python\", \"AI\"],\n",
    "    \"Juan\": [\"Web\", \"AI\"],\n",
    "    \"Jim\": [\"AI\", \"Systems\"],\n",
    "    \"Jane\": [\"Python\", \"Database\"],\n",
    "    \"Mary\": [\"Web\", \"AI\"],\n",
    "    \"Bruce\": [\"Systems\", \"Python\"],\n",
    "    \"Anita\": [\"Photoshop\", \"AI\"]\n",
    "}\n",
    "\n",
    "# define Required roles\n",
    "required_roles = {\"Python\": 2, \"AI\": 2, \"Web\": 1, \"Database\": 1, \"Systems\": 1}\n",
    "\n",
    "# function to check if all roles are filled\n",
    "def all_roles_filled(roles):\n",
    "    return all(roles[role] == 0 for role in roles)\n",
    "\n",
    "# modified DFS function to find all unique solutions (ignoring order)\n",
    "def dfs_unique_solutions(current_state, depth, path, solutions):\n",
    "    # to limit the depth, can only hire 3 more people\n",
    "    if depth > 3: \n",
    "        return\n",
    "\n",
    "    if all_roles_filled(current_state):\n",
    "        solution_tuple = tuple(sorted(path))\n",
    "        if solution_tuple not in solutions:\n",
    "            solutions.add(solution_tuple)\n",
    "        return\n",
    "\n",
    "    for candidate, abilities in candidates.items():\n",
    "        if candidate not in path:\n",
    "            new_state = current_state.copy()\n",
    "            for ability in abilities:\n",
    "                if ability in new_state and new_state[ability] > 0:\n",
    "                    new_state[ability] -= 1\n",
    "\n",
    "            dfs_unique_solutions(new_state, depth + 1, path + [candidate], solutions)\n",
    "\n",
    "# set to hold all unique solutions\n",
    "unique_solutions = set()\n",
    "\n",
    "# Pperform Depth First Search for all unique solutions\n",
    "dfs_unique_solutions(initial_roles, 0, [], unique_solutions)\n",
    "\n",
    "\n",
    "# convert the set to a list for easier readability\n",
    "unique_solution_list = list(unique_solutions)\n",
    "\n",
    "# print the unique solutions\n",
    "print(\"Solutions Found:\")\n",
    "for solution in unique_solution_list:\n",
    "    print(solution)"
   ]
  },
  {
   "cell_type": "markdown",
   "id": "c16b071b",
   "metadata": {},
   "source": [
    "# Scenario 2 - DFS resolution"
   ]
  },
  {
   "cell_type": "code",
   "execution_count": 22,
   "id": "e930b3bd",
   "metadata": {},
   "outputs": [
    {
     "name": "stdout",
     "output_type": "stream",
     "text": [
      "Solutions found:\n",
      "('Peter', 'Juan', 'Jim', 'Jane')\n",
      "('Peter', 'Jim', 'Jane', 'Mary')\n"
     ]
    }
   ],
   "source": [
    "from itertools import combinations\n",
    "\n",
    "# defining people and skills\n",
    "people = {\n",
    "  'Peter': ['Python', 'AI'],\n",
    "  'Juan': ['Web', 'AI'],\n",
    "  'Jim': ['AI', 'Systems'],\n",
    "  'Jane': ['Python', 'Database'],\n",
    "  'Mary': ['Web', 'AI'],\n",
    "  'Bruce': ['Systems', 'Python'],\n",
    "  'Anita': ['Photoshop', 'AI']\n",
    "}\n",
    "\n",
    "# defining working needs\n",
    "working_needs = {\n",
    "  'Python': 2,\n",
    "  'AI': 3,\n",
    "  'Web': 1,\n",
    "  'Database': 1,\n",
    "  'Systems': 1\n",
    "}\n",
    "\n",
    "# initialize solutions list\n",
    "solutions = []\n",
    "\n",
    "# function to check if the current solution meets the working needs\n",
    "def dfs(people_list, current_solution):\n",
    "  count_skills = {skill: sum(1 for person in current_solution if skill in people[person]) for skill in working_needs}\n",
    "  \n",
    "  if all(count_skills.get(skill, 0) >= working_needs[skill] for skill in working_needs):\n",
    "      solutions.append(tuple(current_solution)) # add a tuple of current_solution to solutions\n",
    "\n",
    "  # iterate over the remaining people_list\n",
    "  for i in range(len(people_list)):\n",
    "      person = people_list[i]\n",
    "      # try adding the person to the current_solution and explore further\n",
    "      dfs(people_list[i + 1:], current_solution + [person])\n",
    "\n",
    "# start DFS with different numbers of people (in this case, from 1 to 4)\n",
    "for people_found in range(1, 5):\n",
    "  for combination in combinations(people.keys(), people_found):\n",
    "      dfs(list(combination), [])\n",
    "\n",
    "# show solutions to the user\n",
    "if solutions:\n",
    "  print(\"Solutions found:\")\n",
    "  for final in solutions:\n",
    "      print(final)\n",
    "# show message even if there are no solutions\n",
    "else:\n",
    "  print(\"There is no solution to this problem\")"
   ]
  },
  {
   "cell_type": "markdown",
   "id": "ef919bcd",
   "metadata": {},
   "source": [
    "# Data Visualisation"
   ]
  },
  {
   "cell_type": "markdown",
   "id": "ce2ade14",
   "metadata": {},
   "source": [
    "# Task 1 and 2"
   ]
  },
  {
   "cell_type": "markdown",
   "id": "412ebca2",
   "metadata": {},
   "source": [
    "<b> Task 1: </b>Use appropriate visualisation to help communicate the CSP scenario and the corresponding solutions, if any, to the appropriate stakeholders.</br> <b> Task 2: </b>Create interactive visualisation to allow a user to explore alternate constraint scenarios"
   ]
  },
  {
   "cell_type": "markdown",
   "id": "6874eb7c",
   "metadata": {},
   "source": [
    "# Scenario 1 - Task 1"
   ]
  },
  {
   "cell_type": "markdown",
   "id": "5e7aab14",
   "metadata": {},
   "source": [
    "<b>Suppose Ciara knows Python, and only has funds to hire three more people.</b>"
   ]
  },
  {
   "cell_type": "code",
   "execution_count": 23,
   "id": "dbfed451",
   "metadata": {
    "scrolled": true
   },
   "outputs": [
    {
     "data": {
      "image/png": "[encoded data removed]",
      "text/plain": [
       "<Figure size 864x576 with 1 Axes>"
      ]
     },
     "metadata": {
      "needs_background": "light"
     },
     "output_type": "display_data"
    }
   ],
   "source": [
    "# imports\n",
    "import numpy as np\n",
    "import matplotlib.pyplot as plt\n",
    "\n",
    "# defining people and their skills\n",
    "people = {\n",
    "    'Peter': ['Python', 'AI'],\n",
    "    'Juan': ['Web', 'AI'],\n",
    "    'Jim': ['AI', 'Systems'],\n",
    "    'Jane': ['Python', 'Database'],\n",
    "    'Mary': ['Web', 'AI'],\n",
    "    'Bruce': ['Systems', 'Python'],\n",
    "    'Anita': ['Photoshop', 'AI']\n",
    "}\n",
    "\n",
    "# defining positions needed and count\n",
    "positions = {\n",
    "    'Python Programmer': 2,\n",
    "    'AI Engineer': 2,\n",
    "    'Web Designer': 1,\n",
    "    'Database Admin': 1,\n",
    "    'Systems Engineer': 1\n",
    "}\n",
    "\n",
    "# solutions \n",
    "solutions = [\n",
    "    ('Juan', 'Jim', 'Jane'),\n",
    "    ('Juan', 'Jane', 'Bruce'),\n",
    "    ('Jim', 'Jane', 'Mary'),\n",
    "    ('Jane', 'Mary', 'Bruce')\n",
    "]\n",
    "\n",
    "# all people involved\n",
    "all_people = list(people.keys())\n",
    "\n",
    "# matrix to keep the positions for each person across different solutions\n",
    "positions_matrix = np.zeros((len(all_people), len(solutions)))\n",
    "\n",
    "# loop to add on the matrix the positions filled by each person over the options \n",
    "for i, person in enumerate(all_people):\n",
    "    for j, solution in enumerate(solutions):\n",
    "        positions_count = sum([1 for role in solution if role == person])\n",
    "        positions_matrix[i, j] = positions_count\n",
    "\n",
    "# adjusting the plot to stack bars for each person over the options \n",
    "plt.figure(figsize=(12, 8))\n",
    "\n",
    "# base for the stacked bars\n",
    "bottom = np.zeros(len(solutions))\n",
    "\n",
    "# plotting\n",
    "for i, person in enumerate(all_people):\n",
    "    plt.bar(np.arange(len(solutions)) + 1, positions_matrix[i, :], bottom=bottom, label=person)\n",
    "    bottom += positions_matrix[i, :]\n",
    "\n",
    "\n",
    "plt.xlabel('Option Number')\n",
    "plt.ylabel('Number of Positions Fulfilled')\n",
    "plt.title('Possible hiring outcomes')\n",
    "plt.xticks(np.arange(1, len(solutions) + 1))\n",
    "plt.yticks(np.arange(0, len(solutions) + 1), positions.keys())  # Set y-axis ticks to position labels\n",
    "plt.legend(loc='upper right', title='Candidates pool')\n",
    "plt.tight_layout()\n",
    "plt.show()\n"
   ]
  },
  {
   "cell_type": "markdown",
   "id": "d66dda75",
   "metadata": {},
   "source": [
    "# Scenario 2 - Task 1"
   ]
  },
  {
   "cell_type": "markdown",
   "id": "be060c92",
   "metadata": {},
   "source": [
    "<b> Suppose Ciara and Juan become partners, with the additional funds they can now employ four more people but must employ another AI Engineer, so they need 2 Python Programmers, 2 AI Engineers, 1 Web Designer, 1 Database Admin, and 1 Systems Engineer.</b>"
   ]
  },
  {
   "cell_type": "code",
   "execution_count": 24,
   "id": "76e03269",
   "metadata": {
    "scrolled": true
   },
   "outputs": [
    {
     "data": {
      "image/png": "[encoded data removed]",
      "text/plain": [
       "<Figure size 864x576 with 1 Axes>"
      ]
     },
     "metadata": {
      "needs_background": "light"
     },
     "output_type": "display_data"
    }
   ],
   "source": [
    "# imports\n",
    "import numpy as np\n",
    "import matplotlib.pyplot as plt\n",
    "\n",
    "# defining people and their skills\n",
    "people = {\n",
    "    'Peter': ['Python', 'AI'],\n",
    "    'Juan': ['Web', 'AI'],\n",
    "    'Jim': ['AI', 'Systems'],\n",
    "    'Jane': ['Python', 'Database'],\n",
    "    'Mary': ['Web', 'AI'],\n",
    "    'Bruce': ['Systems', 'Python'],\n",
    "    'Anita': ['Photoshop', 'AI']\n",
    "}\n",
    "\n",
    "# defining positions needed\n",
    "positions = {\n",
    "    'Python Programmer': 2,\n",
    "    'AI Engineer': 3,\n",
    "    'Web Designer': 1,\n",
    "    'Database Admin': 1,\n",
    "    'Systems Engineer': 1\n",
    "}\n",
    "\n",
    "# solutions\n",
    "solutions = [\n",
    "    ('Juan', 'Jim', 'Jane'),\n",
    "    ('Juan', 'Jane', 'Bruce'),\n",
    "    ('Jim', 'Jane', 'Mary'),\n",
    "    ('Jane', 'Mary', 'Bruce'),\n",
    "    ('Peter', 'Juan', 'Jim', 'Jane'),\n",
    "    ('Peter', 'Juan', 'Jane', 'Bruce'),\n",
    "    ('Peter', 'Jim', 'Jane', 'Mary'),\n",
    "    ('Peter', 'Jane', 'Mary', 'Bruce'),\n",
    "    ('Juan', 'Jim', 'Jane', 'Mary'),\n",
    "    ('Juan', 'Jim', 'Jane', 'Bruce'),\n",
    "    ('Juan', 'Jim', 'Jane', 'Anita'),\n",
    "    ('Juan', 'Jane', 'Mary', 'Bruce'),\n",
    "    ('Juan', 'Jane', 'Bruce', 'Anita'),\n",
    "    ('Jim', 'Jane', 'Mary', 'Bruce'),\n",
    "    ('Jim', 'Jane', 'Mary', 'Anita'),\n",
    "    ('Jane', 'Mary', 'Bruce', 'Anita')\n",
    "]\n",
    "\n",
    "# all people involved list\n",
    "all_people = list(people.keys())\n",
    "\n",
    "# matrix to keep the positions for each person over different solutions\n",
    "positions_matrix = np.zeros((len(all_people), len(solutions)))\n",
    "\n",
    "# loop to add over the matrix with the positions filled by each person over different solutions\n",
    "for i, person in enumerate(all_people):\n",
    "    for j, solution in enumerate(solutions):\n",
    "        positions_count = sum([1 for role in solution if role == person])\n",
    "        positions_matrix[i, j] = positions_count\n",
    "\n",
    "# adjusting the plot to stack bars for each person over different options\n",
    "plt.figure(figsize=(12, 8))\n",
    "\n",
    "# base for the stacked bars\n",
    "bottom = np.zeros(len(solutions))\n",
    "\n",
    "# plotting\n",
    "for i, person in enumerate(all_people):\n",
    "    plt.bar(np.arange(len(solutions)) + 1, positions_matrix[i, :], bottom=bottom, label=person)\n",
    "    bottom += positions_matrix[i, :]\n",
    "\n",
    "plt.xlabel('Option Number')\n",
    "plt.ylabel('Number of Positions Fulfilled')\n",
    "plt.title('Possible hiring outcomes')\n",
    "plt.xticks(np.arange(1, len(solutions) + 1))\n",
    "plt.yticks(np.arange(0, max(positions_matrix.sum(axis=0)) + 1))  #Adjust y-axis ticks dynamically \n",
    "plt.legend(loc='upper right', title='Candidates pool')\n",
    "plt.tight_layout()\n",
    "plt.show()"
   ]
  },
  {
   "cell_type": "markdown",
   "id": "53cba2fc",
   "metadata": {},
   "source": [
    "# Scenario 1 - Task 2\n",
    "### Creating an iteractive visualisation, with the possibility to add or remove a person by the captions beside the graph, as well as visualisation of roles while on hoover on top of stacks "
   ]
  },
  {
   "cell_type": "code",
   "execution_count": 25,
   "id": "e18f97e3",
   "metadata": {},
   "outputs": [
    {
     "data": {
      "application/vnd.plotly.v1+json": {
       "config": {
        "plotlyServerURL": "https://plot.ly"
       },
       "data": [
        {
         "base": [
          0,
          0,
          0,
          0
         ],
         "hoverinfo": "text",
         "marker": {
          "color": "rgb(44, 160, 44)"
         },
         "name": "Peter",
         "text": "Python<br>AI",
         "type": "bar",
         "x": [
          1,
          2,
          3,
          4
         ],
         "y": [
          0,
          0,
          0,
          0
         ]
        },
        {
         "base": [
          0,
          0,
          0,
          0
         ],
         "hoverinfo": "text",
         "marker": {
          "color": "rgb(31, 119, 180)"
         },
         "name": "Juan",
         "text": "Web<br>AI",
         "type": "bar",
         "x": [
          1,
          2,
          3,
          4
         ],
         "y": [
          1,
          1,
          0,
          0
         ]
        },
        {
         "base": [
          1,
          1,
          0,
          0
         ],
         "hoverinfo": "text",
         "marker": {
          "color": "rgb(255, 127, 14)"
         },
         "name": "Jim",
         "text": "AI<br>Systems",
         "type": "bar",
         "x": [
          1,
          2,
          3,
          4
         ],
         "y": [
          1,
          0,
          1,
          0
         ]
        },
        {
         "base": [
          2,
          1,
          1,
          0
         ],
         "hoverinfo": "text",
         "marker": {
          "color": "rgb(148, 103, 189)"
         },
         "name": "Jane",
         "text": "Python<br>Database",
         "type": "bar",
         "x": [
          1,
          2,
          3,
          4
         ],
         "y": [
          1,
          1,
          1,
          1
         ]
        },
        {
         "base": [
          3,
          2,
          2,
          1
         ],
         "hoverinfo": "text",
         "marker": {
          "color": "rgb(140, 86, 75)"
         },
         "name": "Mary",
         "text": "Web<br>AI",
         "type": "bar",
         "x": [
          1,
          2,
          3,
          4
         ],
         "y": [
          0,
          0,
          1,
          1
         ]
        },
        {
         "base": [
          3,
          2,
          3,
          2
         ],
         "hoverinfo": "text",
         "marker": {
          "color": "rgb(227, 119, 194)"
         },
         "name": "Bruce",
         "text": "Systems<br>Python",
         "type": "bar",
         "x": [
          1,
          2,
          3,
          4
         ],
         "y": [
          0,
          1,
          0,
          1
         ]
        },
        {
         "base": [
          3,
          3,
          3,
          3
         ],
         "hoverinfo": "text",
         "marker": {
          "color": "rgb(127, 127, 127)"
         },
         "name": "Anita",
         "text": "Photoshop<br>AI",
         "type": "bar",
         "x": [
          1,
          2,
          3,
          4
         ],
         "y": [
          0,
          0,
          0,
          0
         ]
        }
       ],
       "layout": {
        "barmode": "stack",
        "template": {
         "data": {
          "bar": [
           {
            "error_x": {
             "color": "#2a3f5f"
            },
            "error_y": {
             "color": "#2a3f5f"
            },
            "marker": {
             "line": {
              "color": "#E5ECF6",
              "width": 0.5
             },
             "pattern": {
              "fillmode": "overlay",
              "size": 10,
              "solidity": 0.2
             }
            },
            "type": "bar"
           }
          ],
          "barpolar": [
           {
            "marker": {
             "line": {
              "color": "#E5ECF6",
              "width": 0.5
             },
             "pattern": {
              "fillmode": "overlay",
              "size": 10,
              "solidity": 0.2
             }
            },
            "type": "barpolar"
           }
          ],
          "carpet": [
           {
            "aaxis": {
             "endlinecolor": "#2a3f5f",
             "gridcolor": "white",
             "linecolor": "white",
             "minorgridcolor": "white",
             "startlinecolor": "#2a3f5f"
            },
            "baxis": {
             "endlinecolor": "#2a3f5f",
             "gridcolor": "white",
             "linecolor": "white",
             "minorgridcolor": "white",
             "startlinecolor": "#2a3f5f"
            },
            "type": "carpet"
           }
          ],
          "choropleth": [
           {
            "colorbar": {
             "outlinewidth": 0,
             "ticks": ""
            },
            "type": "choropleth"
           }
          ],
          "contour": [
           {
            "colorbar": {
             "outlinewidth": 0,
             "ticks": ""
            },
            "colorscale": [
             [
              0,
              "#0d0887"
             ],
             [
              0.1111111111111111,
              "#46039f"
             ],
             [
              0.2222222222222222,
              "#7201a8"
             ],
             [
              0.3333333333333333,
              "#9c179e"
             ],
             [
              0.4444444444444444,
              "#bd3786"
             ],
             [
              0.5555555555555556,
              "#d8576b"
             ],
             [
              0.6666666666666666,
              "#ed7953"
             ],
             [
              0.7777777777777778,
              "#fb9f3a"
             ],
             [
              0.8888888888888888,
              "#fdca26"
             ],
             [
              1,
              "#f0f921"
             ]
            ],
            "type": "contour"
           }
          ],
          "contourcarpet": [
           {
            "colorbar": {
             "outlinewidth": 0,
             "ticks": ""
            },
            "type": "contourcarpet"
           }
          ],
          "heatmap": [
           {
            "colorbar": {
             "outlinewidth": 0,
             "ticks": ""
            },
            "colorscale": [
             [
              0,
              "#0d0887"
             ],
             [
              0.1111111111111111,
              "#46039f"
             ],
             [
              0.2222222222222222,
              "#7201a8"
             ],
             [
              0.3333333333333333,
              "#9c179e"
             ],
             [
              0.4444444444444444,
              "#bd3786"
             ],
             [
              0.5555555555555556,
              "#d8576b"
             ],
             [
              0.6666666666666666,
              "#ed7953"
             ],
             [
              0.7777777777777778,
              "#fb9f3a"
             ],
             [
              0.8888888888888888,
              "#fdca26"
             ],
             [
              1,
              "#f0f921"
             ]
            ],
            "type": "heatmap"
           }
          ],
          "heatmapgl": [
           {
            "colorbar": {
             "outlinewidth": 0,
             "ticks": ""
            },
            "colorscale": [
             [
              0,
              "#0d0887"
             ],
             [
              0.1111111111111111,
              "#46039f"
             ],
             [
              0.2222222222222222,
              "#7201a8"
             ],
             [
              0.3333333333333333,
              "#9c179e"
             ],
             [
              0.4444444444444444,
              "#bd3786"
             ],
             [
              0.5555555555555556,
              "#d8576b"
             ],
             [
              0.6666666666666666,
              "#ed7953"
             ],
             [
              0.7777777777777778,
              "#fb9f3a"
             ],
             [
              0.8888888888888888,
              "#fdca26"
             ],
             [
              1,
              "#f0f921"
             ]
            ],
            "type": "heatmapgl"
           }
          ],
          "histogram": [
           {
            "marker": {
             "pattern": {
              "fillmode": "overlay",
              "size": 10,
              "solidity": 0.2
             }
            },
            "type": "histogram"
           }
          ],
          "histogram2d": [
           {
            "colorbar": {
             "outlinewidth": 0,
             "ticks": ""
            },
            "colorscale": [
             [
              0,
              "#0d0887"
             ],
             [
              0.1111111111111111,
              "#46039f"
             ],
             [
              0.2222222222222222,
              "#7201a8"
             ],
             [
              0.3333333333333333,
              "#9c179e"
             ],
             [
              0.4444444444444444,
              "#bd3786"
             ],
             [
              0.5555555555555556,
              "#d8576b"
             ],
             [
              0.6666666666666666,
              "#ed7953"
             ],
             [
              0.7777777777777778,
              "#fb9f3a"
             ],
             [
              0.8888888888888888,
              "#fdca26"
             ],
             [
              1,
              "#f0f921"
             ]
            ],
            "type": "histogram2d"
           }
          ],
          "histogram2dcontour": [
           {
            "colorbar": {
             "outlinewidth": 0,
             "ticks": ""
            },
            "colorscale": [
             [
              0,
              "#0d0887"
             ],
             [
              0.1111111111111111,
              "#46039f"
             ],
             [
              0.2222222222222222,
              "#7201a8"
             ],
             [
              0.3333333333333333,
              "#9c179e"
             ],
             [
              0.4444444444444444,
              "#bd3786"
             ],
             [
              0.5555555555555556,
              "#d8576b"
             ],
             [
              0.6666666666666666,
              "#ed7953"
             ],
             [
              0.7777777777777778,
              "#fb9f3a"
             ],
             [
              0.8888888888888888,
              "#fdca26"
             ],
             [
              1,
              "#f0f921"
             ]
            ],
            "type": "histogram2dcontour"
           }
          ],
          "mesh3d": [
           {
            "colorbar": {
             "outlinewidth": 0,
             "ticks": ""
            },
            "type": "mesh3d"
           }
          ],
          "parcoords": [
           {
            "line": {
             "colorbar": {
              "outlinewidth": 0,
              "ticks": ""
             }
            },
            "type": "parcoords"
           }
          ],
          "pie": [
           {
            "automargin": true,
            "type": "pie"
           }
          ],
          "scatter": [
           {
            "fillpattern": {
             "fillmode": "overlay",
             "size": 10,
             "solidity": 0.2
            },
            "type": "scatter"
           }
          ],
          "scatter3d": [
           {
            "line": {
             "colorbar": {
              "outlinewidth": 0,
              "ticks": ""
             }
            },
            "marker": {
             "colorbar": {
              "outlinewidth": 0,
              "ticks": ""
             }
            },
            "type": "scatter3d"
           }
          ],
          "scattercarpet": [
           {
            "marker": {
             "colorbar": {
              "outlinewidth": 0,
              "ticks": ""
             }
            },
            "type": "scattercarpet"
           }
          ],
          "scattergeo": [
           {
            "marker": {
             "colorbar": {
              "outlinewidth": 0,
              "ticks": ""
             }
            },
            "type": "scattergeo"
           }
          ],
          "scattergl": [
           {
            "marker": {
             "colorbar": {
              "outlinewidth": 0,
              "ticks": ""
             }
            },
            "type": "scattergl"
           }
          ],
          "scattermapbox": [
           {
            "marker": {
             "colorbar": {
              "outlinewidth": 0,
              "ticks": ""
             }
            },
            "type": "scattermapbox"
           }
          ],
          "scatterpolar": [
           {
            "marker": {
             "colorbar": {
              "outlinewidth": 0,
              "ticks": ""
             }
            },
            "type": "scatterpolar"
           }
          ],
          "scatterpolargl": [
           {
            "marker": {
             "colorbar": {
              "outlinewidth": 0,
              "ticks": ""
             }
            },
            "type": "scatterpolargl"
           }
          ],
          "scatterternary": [
           {
            "marker": {
             "colorbar": {
              "outlinewidth": 0,
              "ticks": ""
             }
            },
            "type": "scatterternary"
           }
          ],
          "surface": [
           {
            "colorbar": {
             "outlinewidth": 0,
             "ticks": ""
            },
            "colorscale": [
             [
              0,
              "#0d0887"
             ],
             [
              0.1111111111111111,
              "#46039f"
             ],
             [
              0.2222222222222222,
              "#7201a8"
             ],
             [
              0.3333333333333333,
              "#9c179e"
             ],
             [
              0.4444444444444444,
              "#bd3786"
             ],
             [
              0.5555555555555556,
              "#d8576b"
             ],
             [
              0.6666666666666666,
              "#ed7953"
             ],
             [
              0.7777777777777778,
              "#fb9f3a"
             ],
             [
              0.8888888888888888,
              "#fdca26"
             ],
             [
              1,
              "#f0f921"
             ]
            ],
            "type": "surface"
           }
          ],
          "table": [
           {
            "cells": {
             "fill": {
              "color": "#EBF0F8"
             },
             "line": {
              "color": "white"
             }
            },
            "header": {
             "fill": {
              "color": "#C8D4E3"
             },
             "line": {
              "color": "white"
             }
            },
            "type": "table"
           }
          ]
         },
         "layout": {
          "annotationdefaults": {
           "arrowcolor": "#2a3f5f",
           "arrowhead": 0,
           "arrowwidth": 1
          },
          "autotypenumbers": "strict",
          "coloraxis": {
           "colorbar": {
            "outlinewidth": 0,
            "ticks": ""
           }
          },
          "colorscale": {
           "diverging": [
            [
             0,
             "#8e0152"
            ],
            [
             0.1,
             "#c51b7d"
            ],
            [
             0.2,
             "#de77ae"
            ],
            [
             0.3,
             "#f1b6da"
            ],
            [
             0.4,
             "#fde0ef"
            ],
            [
             0.5,
             "#f7f7f7"
            ],
            [
             0.6,
             "#e6f5d0"
            ],
            [
             0.7,
             "#b8e186"
            ],
            [
             0.8,
             "#7fbc41"
            ],
            [
             0.9,
             "#4d9221"
            ],
            [
             1,
             "#276419"
            ]
           ],
           "sequential": [
            [
             0,
             "#0d0887"
            ],
            [
             0.1111111111111111,
             "#46039f"
            ],
            [
             0.2222222222222222,
             "#7201a8"
            ],
            [
             0.3333333333333333,
             "#9c179e"
            ],
            [
             0.4444444444444444,
             "#bd3786"
            ],
            [
             0.5555555555555556,
             "#d8576b"
            ],
            [
             0.6666666666666666,
             "#ed7953"
            ],
            [
             0.7777777777777778,
             "#fb9f3a"
            ],
            [
             0.8888888888888888,
             "#fdca26"
            ],
            [
             1,
             "#f0f921"
            ]
           ],
           "sequentialminus": [
            [
             0,
             "#0d0887"
            ],
            [
             0.1111111111111111,
             "#46039f"
            ],
            [
             0.2222222222222222,
             "#7201a8"
            ],
            [
             0.3333333333333333,
             "#9c179e"
            ],
            [
             0.4444444444444444,
             "#bd3786"
            ],
            [
             0.5555555555555556,
             "#d8576b"
            ],
            [
             0.6666666666666666,
             "#ed7953"
            ],
            [
             0.7777777777777778,
             "#fb9f3a"
            ],
            [
             0.8888888888888888,
             "#fdca26"
            ],
            [
             1,
             "#f0f921"
            ]
           ]
          },
          "colorway": [
           "#636efa",
           "#EF553B",
           "#00cc96",
           "#ab63fa",
           "#FFA15A",
           "#19d3f3",
           "#FF6692",
           "#B6E880",
           "#FF97FF",
           "#FECB52"
          ],
          "font": {
           "color": "#2a3f5f"
          },
          "geo": {
           "bgcolor": "white",
           "lakecolor": "white",
           "landcolor": "#E5ECF6",
           "showlakes": true,
           "showland": true,
           "subunitcolor": "white"
          },
          "hoverlabel": {
           "align": "left"
          },
          "hovermode": "closest",
          "mapbox": {
           "style": "light"
          },
          "paper_bgcolor": "white",
          "plot_bgcolor": "#E5ECF6",
          "polar": {
           "angularaxis": {
            "gridcolor": "white",
            "linecolor": "white",
            "ticks": ""
           },
           "bgcolor": "#E5ECF6",
           "radialaxis": {
            "gridcolor": "white",
            "linecolor": "white",
            "ticks": ""
           }
          },
          "scene": {
           "xaxis": {
            "backgroundcolor": "#E5ECF6",
            "gridcolor": "white",
            "gridwidth": 2,
            "linecolor": "white",
            "showbackground": true,
            "ticks": "",
            "zerolinecolor": "white"
           },
           "yaxis": {
            "backgroundcolor": "#E5ECF6",
            "gridcolor": "white",
            "gridwidth": 2,
            "linecolor": "white",
            "showbackground": true,
            "ticks": "",
            "zerolinecolor": "white"
           },
           "zaxis": {
            "backgroundcolor": "#E5ECF6",
            "gridcolor": "white",
            "gridwidth": 2,
            "linecolor": "white",
            "showbackground": true,
            "ticks": "",
            "zerolinecolor": "white"
           }
          },
          "shapedefaults": {
           "line": {
            "color": "#2a3f5f"
           }
          },
          "ternary": {
           "aaxis": {
            "gridcolor": "white",
            "linecolor": "white",
            "ticks": ""
           },
           "baxis": {
            "gridcolor": "white",
            "linecolor": "white",
            "ticks": ""
           },
           "bgcolor": "#E5ECF6",
           "caxis": {
            "gridcolor": "white",
            "linecolor": "white",
            "ticks": ""
           }
          },
          "title": {
           "x": 0.05
          },
          "xaxis": {
           "automargin": true,
           "gridcolor": "white",
           "linecolor": "white",
           "ticks": "",
           "title": {
            "standoff": 15
           },
           "zerolinecolor": "white",
           "zerolinewidth": 2
          },
          "yaxis": {
           "automargin": true,
           "gridcolor": "white",
           "linecolor": "white",
           "ticks": "",
           "title": {
            "standoff": 15
           },
           "zerolinecolor": "white",
           "zerolinewidth": 2
          }
         }
        },
        "title": {
         "text": "Possible hiring outcomes"
        },
        "xaxis": {
         "title": {
          "text": "Option Number"
         }
        },
        "yaxis": {
         "title": {
          "text": "Number of Positions Fulfilled"
         }
        }
       }
      },
      "text/html": [
       "<div>                            <div id=\"64c767bd-00fd-4764-b163-5585b80cdcbe\" class=\"plotly-graph-div\" style=\"height:525px; width:100%;\"></div>            <script type=\"text/javascript\">                require([\"plotly\"], function(Plotly) {                    window.PLOTLYENV=window.PLOTLYENV || {};                                    if (document.getElementById(\"64c767bd-00fd-4764-b163-5585b80cdcbe\")) {                    Plotly.newPlot(                        \"64c767bd-00fd-4764-b163-5585b80cdcbe\",                        [{\"base\":[0.0,0.0,0.0,0.0],\"hoverinfo\":\"text\",\"marker\":{\"color\":\"rgb(44, 160, 44)\"},\"name\":\"Peter\",\"text\":\"Python<br>AI\",\"x\":[1,2,3,4],\"y\":[0.0,0.0,0.0,0.0],\"type\":\"bar\"},{\"base\":[0.0,0.0,0.0,0.0],\"hoverinfo\":\"text\",\"marker\":{\"color\":\"rgb(31, 119, 180)\"},\"name\":\"Juan\",\"text\":\"Web<br>AI\",\"x\":[1,2,3,4],\"y\":[1.0,1.0,0.0,0.0],\"type\":\"bar\"},{\"base\":[1.0,1.0,0.0,0.0],\"hoverinfo\":\"text\",\"marker\":{\"color\":\"rgb(255, 127, 14)\"},\"name\":\"Jim\",\"text\":\"AI<br>Systems\",\"x\":[1,2,3,4],\"y\":[1.0,0.0,1.0,0.0],\"type\":\"bar\"},{\"base\":[2.0,1.0,1.0,0.0],\"hoverinfo\":\"text\",\"marker\":{\"color\":\"rgb(148, 103, 189)\"},\"name\":\"Jane\",\"text\":\"Python<br>Database\",\"x\":[1,2,3,4],\"y\":[1.0,1.0,1.0,1.0],\"type\":\"bar\"},{\"base\":[3.0,2.0,2.0,1.0],\"hoverinfo\":\"text\",\"marker\":{\"color\":\"rgb(140, 86, 75)\"},\"name\":\"Mary\",\"text\":\"Web<br>AI\",\"x\":[1,2,3,4],\"y\":[0.0,0.0,1.0,1.0],\"type\":\"bar\"},{\"base\":[3.0,2.0,3.0,2.0],\"hoverinfo\":\"text\",\"marker\":{\"color\":\"rgb(227, 119, 194)\"},\"name\":\"Bruce\",\"text\":\"Systems<br>Python\",\"x\":[1,2,3,4],\"y\":[0.0,1.0,0.0,1.0],\"type\":\"bar\"},{\"base\":[3.0,3.0,3.0,3.0],\"hoverinfo\":\"text\",\"marker\":{\"color\":\"rgb(127, 127, 127)\"},\"name\":\"Anita\",\"text\":\"Photoshop<br>AI\",\"x\":[1,2,3,4],\"y\":[0.0,0.0,0.0,0.0],\"type\":\"bar\"}],                        {\"barmode\":\"stack\",\"title\":{\"text\":\"Possible hiring outcomes\"},\"xaxis\":{\"title\":{\"text\":\"Option Number\"}},\"yaxis\":{\"title\":{\"text\":\"Number of Positions Fulfilled\"}},\"template\":{\"data\":{\"histogram2dcontour\":[{\"type\":\"histogram2dcontour\",\"colorbar\":{\"outlinewidth\":0,\"ticks\":\"\"},\"colorscale\":[[0.0,\"#0d0887\"],[0.1111111111111111,\"#46039f\"],[0.2222222222222222,\"#7201a8\"],[0.3333333333333333,\"#9c179e\"],[0.4444444444444444,\"#bd3786\"],[0.5555555555555556,\"#d8576b\"],[0.6666666666666666,\"#ed7953\"],[0.7777777777777778,\"#fb9f3a\"],[0.8888888888888888,\"#fdca26\"],[1.0,\"#f0f921\"]]}],\"choropleth\":[{\"type\":\"choropleth\",\"colorbar\":{\"outlinewidth\":0,\"ticks\":\"\"}}],\"histogram2d\":[{\"type\":\"histogram2d\",\"colorbar\":{\"outlinewidth\":0,\"ticks\":\"\"},\"colorscale\":[[0.0,\"#0d0887\"],[0.1111111111111111,\"#46039f\"],[0.2222222222222222,\"#7201a8\"],[0.3333333333333333,\"#9c179e\"],[0.4444444444444444,\"#bd3786\"],[0.5555555555555556,\"#d8576b\"],[0.6666666666666666,\"#ed7953\"],[0.7777777777777778,\"#fb9f3a\"],[0.8888888888888888,\"#fdca26\"],[1.0,\"#f0f921\"]]}],\"heatmap\":[{\"type\":\"heatmap\",\"colorbar\":{\"outlinewidth\":0,\"ticks\":\"\"},\"colorscale\":[[0.0,\"#0d0887\"],[0.1111111111111111,\"#46039f\"],[0.2222222222222222,\"#7201a8\"],[0.3333333333333333,\"#9c179e\"],[0.4444444444444444,\"#bd3786\"],[0.5555555555555556,\"#d8576b\"],[0.6666666666666666,\"#ed7953\"],[0.7777777777777778,\"#fb9f3a\"],[0.8888888888888888,\"#fdca26\"],[1.0,\"#f0f921\"]]}],\"heatmapgl\":[{\"type\":\"heatmapgl\",\"colorbar\":{\"outlinewidth\":0,\"ticks\":\"\"},\"colorscale\":[[0.0,\"#0d0887\"],[0.1111111111111111,\"#46039f\"],[0.2222222222222222,\"#7201a8\"],[0.3333333333333333,\"#9c179e\"],[0.4444444444444444,\"#bd3786\"],[0.5555555555555556,\"#d8576b\"],[0.6666666666666666,\"#ed7953\"],[0.7777777777777778,\"#fb9f3a\"],[0.8888888888888888,\"#fdca26\"],[1.0,\"#f0f921\"]]}],\"contourcarpet\":[{\"type\":\"contourcarpet\",\"colorbar\":{\"outlinewidth\":0,\"ticks\":\"\"}}],\"contour\":[{\"type\":\"contour\",\"colorbar\":{\"outlinewidth\":0,\"ticks\":\"\"},\"colorscale\":[[0.0,\"#0d0887\"],[0.1111111111111111,\"#46039f\"],[0.2222222222222222,\"#7201a8\"],[0.3333333333333333,\"#9c179e\"],[0.4444444444444444,\"#bd3786\"],[0.5555555555555556,\"#d8576b\"],[0.6666666666666666,\"#ed7953\"],[0.7777777777777778,\"#fb9f3a\"],[0.8888888888888888,\"#fdca26\"],[1.0,\"#f0f921\"]]}],\"surface\":[{\"type\":\"surface\",\"colorbar\":{\"outlinewidth\":0,\"ticks\":\"\"},\"colorscale\":[[0.0,\"#0d0887\"],[0.1111111111111111,\"#46039f\"],[0.2222222222222222,\"#7201a8\"],[0.3333333333333333,\"#9c179e\"],[0.4444444444444444,\"#bd3786\"],[0.5555555555555556,\"#d8576b\"],[0.6666666666666666,\"#ed7953\"],[0.7777777777777778,\"#fb9f3a\"],[0.8888888888888888,\"#fdca26\"],[1.0,\"#f0f921\"]]}],\"mesh3d\":[{\"type\":\"mesh3d\",\"colorbar\":{\"outlinewidth\":0,\"ticks\":\"\"}}],\"scatter\":[{\"fillpattern\":{\"fillmode\":\"overlay\",\"size\":10,\"solidity\":0.2},\"type\":\"scatter\"}],\"parcoords\":[{\"type\":\"parcoords\",\"line\":{\"colorbar\":{\"outlinewidth\":0,\"ticks\":\"\"}}}],\"scatterpolargl\":[{\"type\":\"scatterpolargl\",\"marker\":{\"colorbar\":{\"outlinewidth\":0,\"ticks\":\"\"}}}],\"bar\":[{\"error_x\":{\"color\":\"#2a3f5f\"},\"error_y\":{\"color\":\"#2a3f5f\"},\"marker\":{\"line\":{\"color\":\"#E5ECF6\",\"width\":0.5},\"pattern\":{\"fillmode\":\"overlay\",\"size\":10,\"solidity\":0.2}},\"type\":\"bar\"}],\"scattergeo\":[{\"type\":\"scattergeo\",\"marker\":{\"colorbar\":{\"outlinewidth\":0,\"ticks\":\"\"}}}],\"scatterpolar\":[{\"type\":\"scatterpolar\",\"marker\":{\"colorbar\":{\"outlinewidth\":0,\"ticks\":\"\"}}}],\"histogram\":[{\"marker\":{\"pattern\":{\"fillmode\":\"overlay\",\"size\":10,\"solidity\":0.2}},\"type\":\"histogram\"}],\"scattergl\":[{\"type\":\"scattergl\",\"marker\":{\"colorbar\":{\"outlinewidth\":0,\"ticks\":\"\"}}}],\"scatter3d\":[{\"type\":\"scatter3d\",\"line\":{\"colorbar\":{\"outlinewidth\":0,\"ticks\":\"\"}},\"marker\":{\"colorbar\":{\"outlinewidth\":0,\"ticks\":\"\"}}}],\"scattermapbox\":[{\"type\":\"scattermapbox\",\"marker\":{\"colorbar\":{\"outlinewidth\":0,\"ticks\":\"\"}}}],\"scatterternary\":[{\"type\":\"scatterternary\",\"marker\":{\"colorbar\":{\"outlinewidth\":0,\"ticks\":\"\"}}}],\"scattercarpet\":[{\"type\":\"scattercarpet\",\"marker\":{\"colorbar\":{\"outlinewidth\":0,\"ticks\":\"\"}}}],\"carpet\":[{\"aaxis\":{\"endlinecolor\":\"#2a3f5f\",\"gridcolor\":\"white\",\"linecolor\":\"white\",\"minorgridcolor\":\"white\",\"startlinecolor\":\"#2a3f5f\"},\"baxis\":{\"endlinecolor\":\"#2a3f5f\",\"gridcolor\":\"white\",\"linecolor\":\"white\",\"minorgridcolor\":\"white\",\"startlinecolor\":\"#2a3f5f\"},\"type\":\"carpet\"}],\"table\":[{\"cells\":{\"fill\":{\"color\":\"#EBF0F8\"},\"line\":{\"color\":\"white\"}},\"header\":{\"fill\":{\"color\":\"#C8D4E3\"},\"line\":{\"color\":\"white\"}},\"type\":\"table\"}],\"barpolar\":[{\"marker\":{\"line\":{\"color\":\"#E5ECF6\",\"width\":0.5},\"pattern\":{\"fillmode\":\"overlay\",\"size\":10,\"solidity\":0.2}},\"type\":\"barpolar\"}],\"pie\":[{\"automargin\":true,\"type\":\"pie\"}]},\"layout\":{\"autotypenumbers\":\"strict\",\"colorway\":[\"#636efa\",\"#EF553B\",\"#00cc96\",\"#ab63fa\",\"#FFA15A\",\"#19d3f3\",\"#FF6692\",\"#B6E880\",\"#FF97FF\",\"#FECB52\"],\"font\":{\"color\":\"#2a3f5f\"},\"hovermode\":\"closest\",\"hoverlabel\":{\"align\":\"left\"},\"paper_bgcolor\":\"white\",\"plot_bgcolor\":\"#E5ECF6\",\"polar\":{\"bgcolor\":\"#E5ECF6\",\"angularaxis\":{\"gridcolor\":\"white\",\"linecolor\":\"white\",\"ticks\":\"\"},\"radialaxis\":{\"gridcolor\":\"white\",\"linecolor\":\"white\",\"ticks\":\"\"}},\"ternary\":{\"bgcolor\":\"#E5ECF6\",\"aaxis\":{\"gridcolor\":\"white\",\"linecolor\":\"white\",\"ticks\":\"\"},\"baxis\":{\"gridcolor\":\"white\",\"linecolor\":\"white\",\"ticks\":\"\"},\"caxis\":{\"gridcolor\":\"white\",\"linecolor\":\"white\",\"ticks\":\"\"}},\"coloraxis\":{\"colorbar\":{\"outlinewidth\":0,\"ticks\":\"\"}},\"colorscale\":{\"sequential\":[[0.0,\"#0d0887\"],[0.1111111111111111,\"#46039f\"],[0.2222222222222222,\"#7201a8\"],[0.3333333333333333,\"#9c179e\"],[0.4444444444444444,\"#bd3786\"],[0.5555555555555556,\"#d8576b\"],[0.6666666666666666,\"#ed7953\"],[0.7777777777777778,\"#fb9f3a\"],[0.8888888888888888,\"#fdca26\"],[1.0,\"#f0f921\"]],\"sequentialminus\":[[0.0,\"#0d0887\"],[0.1111111111111111,\"#46039f\"],[0.2222222222222222,\"#7201a8\"],[0.3333333333333333,\"#9c179e\"],[0.4444444444444444,\"#bd3786\"],[0.5555555555555556,\"#d8576b\"],[0.6666666666666666,\"#ed7953\"],[0.7777777777777778,\"#fb9f3a\"],[0.8888888888888888,\"#fdca26\"],[1.0,\"#f0f921\"]],\"diverging\":[[0,\"#8e0152\"],[0.1,\"#c51b7d\"],[0.2,\"#de77ae\"],[0.3,\"#f1b6da\"],[0.4,\"#fde0ef\"],[0.5,\"#f7f7f7\"],[0.6,\"#e6f5d0\"],[0.7,\"#b8e186\"],[0.8,\"#7fbc41\"],[0.9,\"#4d9221\"],[1,\"#276419\"]]},\"xaxis\":{\"gridcolor\":\"white\",\"linecolor\":\"white\",\"ticks\":\"\",\"title\":{\"standoff\":15},\"zerolinecolor\":\"white\",\"automargin\":true,\"zerolinewidth\":2},\"yaxis\":{\"gridcolor\":\"white\",\"linecolor\":\"white\",\"ticks\":\"\",\"title\":{\"standoff\":15},\"zerolinecolor\":\"white\",\"automargin\":true,\"zerolinewidth\":2},\"scene\":{\"xaxis\":{\"backgroundcolor\":\"#E5ECF6\",\"gridcolor\":\"white\",\"linecolor\":\"white\",\"showbackground\":true,\"ticks\":\"\",\"zerolinecolor\":\"white\",\"gridwidth\":2},\"yaxis\":{\"backgroundcolor\":\"#E5ECF6\",\"gridcolor\":\"white\",\"linecolor\":\"white\",\"showbackground\":true,\"ticks\":\"\",\"zerolinecolor\":\"white\",\"gridwidth\":2},\"zaxis\":{\"backgroundcolor\":\"#E5ECF6\",\"gridcolor\":\"white\",\"linecolor\":\"white\",\"showbackground\":true,\"ticks\":\"\",\"zerolinecolor\":\"white\",\"gridwidth\":2}},\"shapedefaults\":{\"line\":{\"color\":\"#2a3f5f\"}},\"annotationdefaults\":{\"arrowcolor\":\"#2a3f5f\",\"arrowhead\":0,\"arrowwidth\":1},\"geo\":{\"bgcolor\":\"white\",\"landcolor\":\"#E5ECF6\",\"subunitcolor\":\"white\",\"showland\":true,\"showlakes\":true,\"lakecolor\":\"white\"},\"title\":{\"x\":0.05},\"mapbox\":{\"style\":\"light\"}}}},                        {\"responsive\": true}                    ).then(function(){\n",
       "                            \n",
       "var gd = document.getElementById('64c767bd-00fd-4764-b163-5585b80cdcbe');\n",
       "var x = new MutationObserver(function (mutations, observer) {{\n",
       "        var display = window.getComputedStyle(gd).display;\n",
       "        if (!display || display === 'none') {{\n",
       "            console.log([gd, 'removed!']);\n",
       "            Plotly.purge(gd);\n",
       "            observer.disconnect();\n",
       "        }}\n",
       "}});\n",
       "\n",
       "// Listen for the removal of the full notebook cells\n",
       "var notebookContainer = gd.closest('#notebook-container');\n",
       "if (notebookContainer) {{\n",
       "    x.observe(notebookContainer, {childList: true});\n",
       "}}\n",
       "\n",
       "// Listen for the clearing of the current output cell\n",
       "var outputEl = gd.closest('.output');\n",
       "if (outputEl) {{\n",
       "    x.observe(outputEl, {childList: true});\n",
       "}}\n",
       "\n",
       "                        })                };                });            </script>        </div>"
      ]
     },
     "metadata": {},
     "output_type": "display_data"
    }
   ],
   "source": [
    "# imports\n",
    "import numpy as np\n",
    "import plotly.graph_objs as go\n",
    "\n",
    "# defining people and their skills\n",
    "people = {\n",
    "    'Peter': ['Python', 'AI'],\n",
    "    'Juan': ['Web', 'AI'],\n",
    "    'Jim': ['AI', 'Systems'],\n",
    "    'Jane': ['Python', 'Database'],\n",
    "    'Mary': ['Web', 'AI'],\n",
    "    'Bruce': ['Systems', 'Python'],\n",
    "    'Anita': ['Photoshop', 'AI']\n",
    "}\n",
    "\n",
    "# defining positions needed\n",
    "positions = {\n",
    "    'Python Programmer': 2,\n",
    "    'AI Engineer': 2,\n",
    "    'Web Designer': 1,\n",
    "    'Database Admin': 1,\n",
    "    'Systems Engineer': 1\n",
    "}\n",
    "\n",
    "# solutions\n",
    "solutions = [\n",
    "    ('Juan', 'Jim', 'Jane'),\n",
    "    ('Juan', 'Jane', 'Bruce'),\n",
    "    ('Jim', 'Jane', 'Mary'),\n",
    "    ('Jane', 'Mary', 'Bruce')\n",
    "]\n",
    "\n",
    "# all people involved list\n",
    "all_people = list(people.keys())\n",
    "\n",
    "# matrix to hold positions for each person across different solutions\n",
    "positions_matrix = np.zeros((len(all_people), len(solutions)))\n",
    "\n",
    "# loop to fill up the matrix with the positions fulfilled by each person across options\n",
    "for i, person in enumerate(all_people):\n",
    "    for j, solution in enumerate(solutions):\n",
    "        positions_count = sum([1 for role in solution if role == person])\n",
    "        positions_matrix[i, j] = positions_count\n",
    "\n",
    "# creation of a list of strings, by joing 'people' dictionary based on the keys obtained by all_people\n",
    "data = []\n",
    "bottom = np.zeros(len(solutions))\n",
    "\n",
    "hover_text = [\n",
    "    \"<br>\".join(people[all_people[i]]) for i in range(len(all_people))\n",
    "]\n",
    "\n",
    "# define colors for each person\n",
    "colors = ['rgb(44, 160, 44)', 'rgb(31, 119, 180)', 'rgb(255, 127, 14)',\n",
    "          'rgb(148, 103, 189)', 'rgb(140, 86, 75)', 'rgb(227, 119, 194)', 'rgb(127, 127, 127)']\n",
    "\n",
    "# plot\n",
    "for i, person in enumerate(all_people):\n",
    "    trace = go.Bar(\n",
    "        x=np.arange(len(solutions)) + 1,\n",
    "        y=positions_matrix[i, :],\n",
    "        name=person,\n",
    "        text=hover_text[i],\n",
    "        hoverinfo='text',\n",
    "        marker=dict(color=colors[i]),\n",
    "        base=bottom\n",
    "    )\n",
    "    bottom += positions_matrix[i, :]\n",
    "    data.append(trace)\n",
    "\n",
    "# plot\n",
    "layout = go.Layout(\n",
    "    title='Possible hiring outcomes',\n",
    "    xaxis=dict(title='Option Number'),\n",
    "    yaxis=dict(title='Number of Positions Fulfilled'),\n",
    "    barmode='stack'\n",
    ")\n",
    "\n",
    "# plot\n",
    "fig = go.Figure(data=data, layout=layout)\n",
    "fig.show()\n"
   ]
  },
  {
   "cell_type": "markdown",
   "id": "f1bfee89",
   "metadata": {},
   "source": [
    "# Scenario 2 - Task 2\n",
    "### Creating an iteractive visualisation, with the possibility to add or remove a person by the captions beside the graph, as well as visualisation of roles while on hoover on top of stacks "
   ]
  },
  {
   "cell_type": "code",
   "execution_count": 26,
   "id": "a1f11545",
   "metadata": {
    "scrolled": false
   },
   "outputs": [
    {
     "data": {
      "application/vnd.plotly.v1+json": {
       "config": {
        "plotlyServerURL": "https://plot.ly"
       },
       "data": [
        {
         "base": [
          0,
          0,
          0,
          0,
          0,
          0,
          0,
          0,
          0,
          0,
          0,
          0,
          0,
          0,
          0,
          0
         ],
         "hoverinfo": "text",
         "marker": {
          "color": "rgb(44, 160, 44)"
         },
         "name": "Peter",
         "text": "Python<br>AI",
         "type": "bar",
         "x": [
          1,
          2,
          3,
          4,
          5,
          6,
          7,
          8,
          9,
          10,
          11,
          12,
          13,
          14,
          15,
          16
         ],
         "y": [
          0,
          0,
          0,
          0,
          1,
          1,
          1,
          1,
          0,
          0,
          0,
          0,
          0,
          0,
          0,
          0
         ]
        },
        {
         "base": [
          0,
          0,
          0,
          0,
          1,
          1,
          1,
          1,
          0,
          0,
          0,
          0,
          0,
          0,
          0,
          0
         ],
         "hoverinfo": "text",
         "marker": {
          "color": "rgb(31, 119, 180)"
         },
         "name": "Juan",
         "text": "Web<br>AI",
         "type": "bar",
         "x": [
          1,
          2,
          3,
          4,
          5,
          6,
          7,
          8,
          9,
          10,
          11,
          12,
          13,
          14,
          15,
          16
         ],
         "y": [
          1,
          1,
          0,
          0,
          1,
          1,
          0,
          0,
          1,
          1,
          1,
          1,
          1,
          0,
          0,
          0
         ]
        },
        {
         "base": [
          1,
          1,
          0,
          0,
          2,
          2,
          1,
          1,
          1,
          1,
          1,
          1,
          1,
          0,
          0,
          0
         ],
         "hoverinfo": "text",
         "marker": {
          "color": "rgb(255, 127, 14)"
         },
         "name": "Jim",
         "text": "AI<br>Systems",
         "type": "bar",
         "x": [
          1,
          2,
          3,
          4,
          5,
          6,
          7,
          8,
          9,
          10,
          11,
          12,
          13,
          14,
          15,
          16
         ],
         "y": [
          1,
          0,
          1,
          0,
          1,
          0,
          1,
          0,
          1,
          1,
          1,
          0,
          0,
          1,
          1,
          0
         ]
        },
        {
         "base": [
          2,
          1,
          1,
          0,
          3,
          2,
          2,
          1,
          2,
          2,
          2,
          1,
          1,
          1,
          1,
          0
         ],
         "hoverinfo": "text",
         "marker": {
          "color": "rgb(148, 103, 189)"
         },
         "name": "Jane",
         "text": "Python<br>Database",
         "type": "bar",
         "x": [
          1,
          2,
          3,
          4,
          5,
          6,
          7,
          8,
          9,
          10,
          11,
          12,
          13,
          14,
          15,
          16
         ],
         "y": [
          1,
          1,
          1,
          1,
          1,
          1,
          1,
          1,
          1,
          1,
          1,
          1,
          1,
          1,
          1,
          1
         ]
        },
        {
         "base": [
          3,
          2,
          2,
          1,
          4,
          3,
          3,
          2,
          3,
          3,
          3,
          2,
          2,
          2,
          2,
          1
         ],
         "hoverinfo": "text",
         "marker": {
          "color": "rgb(140, 86, 75)"
         },
         "name": "Mary",
         "text": "Web<br>AI",
         "type": "bar",
         "x": [
          1,
          2,
          3,
          4,
          5,
          6,
          7,
          8,
          9,
          10,
          11,
          12,
          13,
          14,
          15,
          16
         ],
         "y": [
          0,
          0,
          1,
          1,
          0,
          0,
          1,
          1,
          1,
          0,
          0,
          1,
          0,
          1,
          1,
          1
         ]
        },
        {
         "base": [
          3,
          2,
          3,
          2,
          4,
          3,
          4,
          3,
          4,
          3,
          3,
          3,
          2,
          3,
          3,
          2
         ],
         "hoverinfo": "text",
         "marker": {
          "color": "rgb(227, 119, 194)"
         },
         "name": "Bruce",
         "text": "Systems<br>Python",
         "type": "bar",
         "x": [
          1,
          2,
          3,
          4,
          5,
          6,
          7,
          8,
          9,
          10,
          11,
          12,
          13,
          14,
          15,
          16
         ],
         "y": [
          0,
          1,
          0,
          1,
          0,
          1,
          0,
          1,
          0,
          1,
          0,
          1,
          1,
          1,
          0,
          1
         ]
        },
        {
         "base": [
          3,
          3,
          3,
          3,
          4,
          4,
          4,
          4,
          4,
          4,
          3,
          4,
          3,
          4,
          3,
          3
         ],
         "hoverinfo": "text",
         "marker": {
          "color": "rgb(127, 127, 127)"
         },
         "name": "Anita",
         "text": "Photoshop<br>AI",
         "type": "bar",
         "x": [
          1,
          2,
          3,
          4,
          5,
          6,
          7,
          8,
          9,
          10,
          11,
          12,
          13,
          14,
          15,
          16
         ],
         "y": [
          0,
          0,
          0,
          0,
          0,
          0,
          0,
          0,
          0,
          0,
          1,
          0,
          1,
          0,
          1,
          1
         ]
        }
       ],
       "layout": {
        "barmode": "stack",
        "template": {
         "data": {
          "bar": [
           {
            "error_x": {
             "color": "#2a3f5f"
            },
            "error_y": {
             "color": "#2a3f5f"
            },
            "marker": {
             "line": {
              "color": "#E5ECF6",
              "width": 0.5
             },
             "pattern": {
              "fillmode": "overlay",
              "size": 10,
              "solidity": 0.2
             }
            },
            "type": "bar"
           }
          ],
          "barpolar": [
           {
            "marker": {
             "line": {
              "color": "#E5ECF6",
              "width": 0.5
             },
             "pattern": {
              "fillmode": "overlay",
              "size": 10,
              "solidity": 0.2
             }
            },
            "type": "barpolar"
           }
          ],
          "carpet": [
           {
            "aaxis": {
             "endlinecolor": "#2a3f5f",
             "gridcolor": "white",
             "linecolor": "white",
             "minorgridcolor": "white",
             "startlinecolor": "#2a3f5f"
            },
            "baxis": {
             "endlinecolor": "#2a3f5f",
             "gridcolor": "white",
             "linecolor": "white",
             "minorgridcolor": "white",
             "startlinecolor": "#2a3f5f"
            },
            "type": "carpet"
           }
          ],
          "choropleth": [
           {
            "colorbar": {
             "outlinewidth": 0,
             "ticks": ""
            },
            "type": "choropleth"
           }
          ],
          "contour": [
           {
            "colorbar": {
             "outlinewidth": 0,
             "ticks": ""
            },
            "colorscale": [
             [
              0,
              "#0d0887"
             ],
             [
              0.1111111111111111,
              "#46039f"
             ],
             [
              0.2222222222222222,
              "#7201a8"
             ],
             [
              0.3333333333333333,
              "#9c179e"
             ],
             [
              0.4444444444444444,
              "#bd3786"
             ],
             [
              0.5555555555555556,
              "#d8576b"
             ],
             [
              0.6666666666666666,
              "#ed7953"
             ],
             [
              0.7777777777777778,
              "#fb9f3a"
             ],
             [
              0.8888888888888888,
              "#fdca26"
             ],
             [
              1,
              "#f0f921"
             ]
            ],
            "type": "contour"
           }
          ],
          "contourcarpet": [
           {
            "colorbar": {
             "outlinewidth": 0,
             "ticks": ""
            },
            "type": "contourcarpet"
           }
          ],
          "heatmap": [
           {
            "colorbar": {
             "outlinewidth": 0,
             "ticks": ""
            },
            "colorscale": [
             [
              0,
              "#0d0887"
             ],
             [
              0.1111111111111111,
              "#46039f"
             ],
             [
              0.2222222222222222,
              "#7201a8"
             ],
             [
              0.3333333333333333,
              "#9c179e"
             ],
             [
              0.4444444444444444,
              "#bd3786"
             ],
             [
              0.5555555555555556,
              "#d8576b"
             ],
             [
              0.6666666666666666,
              "#ed7953"
             ],
             [
              0.7777777777777778,
              "#fb9f3a"
             ],
             [
              0.8888888888888888,
              "#fdca26"
             ],
             [
              1,
              "#f0f921"
             ]
            ],
            "type": "heatmap"
           }
          ],
          "heatmapgl": [
           {
            "colorbar": {
             "outlinewidth": 0,
             "ticks": ""
            },
            "colorscale": [
             [
              0,
              "#0d0887"
             ],
             [
              0.1111111111111111,
              "#46039f"
             ],
             [
              0.2222222222222222,
              "#7201a8"
             ],
             [
              0.3333333333333333,
              "#9c179e"
             ],
             [
              0.4444444444444444,
              "#bd3786"
             ],
             [
              0.5555555555555556,
              "#d8576b"
             ],
             [
              0.6666666666666666,
              "#ed7953"
             ],
             [
              0.7777777777777778,
              "#fb9f3a"
             ],
             [
              0.8888888888888888,
              "#fdca26"
             ],
             [
              1,
              "#f0f921"
             ]
            ],
            "type": "heatmapgl"
           }
          ],
          "histogram": [
           {
            "marker": {
             "pattern": {
              "fillmode": "overlay",
              "size": 10,
              "solidity": 0.2
             }
            },
            "type": "histogram"
           }
          ],
          "histogram2d": [
           {
            "colorbar": {
             "outlinewidth": 0,
             "ticks": ""
            },
            "colorscale": [
             [
              0,
              "#0d0887"
             ],
             [
              0.1111111111111111,
              "#46039f"
             ],
             [
              0.2222222222222222,
              "#7201a8"
             ],
             [
              0.3333333333333333,
              "#9c179e"
             ],
             [
              0.4444444444444444,
              "#bd3786"
             ],
             [
              0.5555555555555556,
              "#d8576b"
             ],
             [
              0.6666666666666666,
              "#ed7953"
             ],
             [
              0.7777777777777778,
              "#fb9f3a"
             ],
             [
              0.8888888888888888,
              "#fdca26"
             ],
             [
              1,
              "#f0f921"
             ]
            ],
            "type": "histogram2d"
           }
          ],
          "histogram2dcontour": [
           {
            "colorbar": {
             "outlinewidth": 0,
             "ticks": ""
            },
            "colorscale": [
             [
              0,
              "#0d0887"
             ],
             [
              0.1111111111111111,
              "#46039f"
             ],
             [
              0.2222222222222222,
              "#7201a8"
             ],
             [
              0.3333333333333333,
              "#9c179e"
             ],
             [
              0.4444444444444444,
              "#bd3786"
             ],
             [
              0.5555555555555556,
              "#d8576b"
             ],
             [
              0.6666666666666666,
              "#ed7953"
             ],
             [
              0.7777777777777778,
              "#fb9f3a"
             ],
             [
              0.8888888888888888,
              "#fdca26"
             ],
             [
              1,
              "#f0f921"
             ]
            ],
            "type": "histogram2dcontour"
           }
          ],
          "mesh3d": [
           {
            "colorbar": {
             "outlinewidth": 0,
             "ticks": ""
            },
            "type": "mesh3d"
           }
          ],
          "parcoords": [
           {
            "line": {
             "colorbar": {
              "outlinewidth": 0,
              "ticks": ""
             }
            },
            "type": "parcoords"
           }
          ],
          "pie": [
           {
            "automargin": true,
            "type": "pie"
           }
          ],
          "scatter": [
           {
            "fillpattern": {
             "fillmode": "overlay",
             "size": 10,
             "solidity": 0.2
            },
            "type": "scatter"
           }
          ],
          "scatter3d": [
           {
            "line": {
             "colorbar": {
              "outlinewidth": 0,
              "ticks": ""
             }
            },
            "marker": {
             "colorbar": {
              "outlinewidth": 0,
              "ticks": ""
             }
            },
            "type": "scatter3d"
           }
          ],
          "scattercarpet": [
           {
            "marker": {
             "colorbar": {
              "outlinewidth": 0,
              "ticks": ""
             }
            },
            "type": "scattercarpet"
           }
          ],
          "scattergeo": [
           {
            "marker": {
             "colorbar": {
              "outlinewidth": 0,
              "ticks": ""
             }
            },
            "type": "scattergeo"
           }
          ],
          "scattergl": [
           {
            "marker": {
             "colorbar": {
              "outlinewidth": 0,
              "ticks": ""
             }
            },
            "type": "scattergl"
           }
          ],
          "scattermapbox": [
           {
            "marker": {
             "colorbar": {
              "outlinewidth": 0,
              "ticks": ""
             }
            },
            "type": "scattermapbox"
           }
          ],
          "scatterpolar": [
           {
            "marker": {
             "colorbar": {
              "outlinewidth": 0,
              "ticks": ""
             }
            },
            "type": "scatterpolar"
           }
          ],
          "scatterpolargl": [
           {
            "marker": {
             "colorbar": {
              "outlinewidth": 0,
              "ticks": ""
             }
            },
            "type": "scatterpolargl"
           }
          ],
          "scatterternary": [
           {
            "marker": {
             "colorbar": {
              "outlinewidth": 0,
              "ticks": ""
             }
            },
            "type": "scatterternary"
           }
          ],
          "surface": [
           {
            "colorbar": {
             "outlinewidth": 0,
             "ticks": ""
            },
            "colorscale": [
             [
              0,
              "#0d0887"
             ],
             [
              0.1111111111111111,
              "#46039f"
             ],
             [
              0.2222222222222222,
              "#7201a8"
             ],
             [
              0.3333333333333333,
              "#9c179e"
             ],
             [
              0.4444444444444444,
              "#bd3786"
             ],
             [
              0.5555555555555556,
              "#d8576b"
             ],
             [
              0.6666666666666666,
              "#ed7953"
             ],
             [
              0.7777777777777778,
              "#fb9f3a"
             ],
             [
              0.8888888888888888,
              "#fdca26"
             ],
             [
              1,
              "#f0f921"
             ]
            ],
            "type": "surface"
           }
          ],
          "table": [
           {
            "cells": {
             "fill": {
              "color": "#EBF0F8"
             },
             "line": {
              "color": "white"
             }
            },
            "header": {
             "fill": {
              "color": "#C8D4E3"
             },
             "line": {
              "color": "white"
             }
            },
            "type": "table"
           }
          ]
         },
         "layout": {
          "annotationdefaults": {
           "arrowcolor": "#2a3f5f",
           "arrowhead": 0,
           "arrowwidth": 1
          },
          "autotypenumbers": "strict",
          "coloraxis": {
           "colorbar": {
            "outlinewidth": 0,
            "ticks": ""
           }
          },
          "colorscale": {
           "diverging": [
            [
             0,
             "#8e0152"
            ],
            [
             0.1,
             "#c51b7d"
            ],
            [
             0.2,
             "#de77ae"
            ],
            [
             0.3,
             "#f1b6da"
            ],
            [
             0.4,
             "#fde0ef"
            ],
            [
             0.5,
             "#f7f7f7"
            ],
            [
             0.6,
             "#e6f5d0"
            ],
            [
             0.7,
             "#b8e186"
            ],
            [
             0.8,
             "#7fbc41"
            ],
            [
             0.9,
             "#4d9221"
            ],
            [
             1,
             "#276419"
            ]
           ],
           "sequential": [
            [
             0,
             "#0d0887"
            ],
            [
             0.1111111111111111,
             "#46039f"
            ],
            [
             0.2222222222222222,
             "#7201a8"
            ],
            [
             0.3333333333333333,
             "#9c179e"
            ],
            [
             0.4444444444444444,
             "#bd3786"
            ],
            [
             0.5555555555555556,
             "#d8576b"
            ],
            [
             0.6666666666666666,
             "#ed7953"
            ],
            [
             0.7777777777777778,
             "#fb9f3a"
            ],
            [
             0.8888888888888888,
             "#fdca26"
            ],
            [
             1,
             "#f0f921"
            ]
           ],
           "sequentialminus": [
            [
             0,
             "#0d0887"
            ],
            [
             0.1111111111111111,
             "#46039f"
            ],
            [
             0.2222222222222222,
             "#7201a8"
            ],
            [
             0.3333333333333333,
             "#9c179e"
            ],
            [
             0.4444444444444444,
             "#bd3786"
            ],
            [
             0.5555555555555556,
             "#d8576b"
            ],
            [
             0.6666666666666666,
             "#ed7953"
            ],
            [
             0.7777777777777778,
             "#fb9f3a"
            ],
            [
             0.8888888888888888,
             "#fdca26"
            ],
            [
             1,
             "#f0f921"
            ]
           ]
          },
          "colorway": [
           "#636efa",
           "#EF553B",
           "#00cc96",
           "#ab63fa",
           "#FFA15A",
           "#19d3f3",
           "#FF6692",
           "#B6E880",
           "#FF97FF",
           "#FECB52"
          ],
          "font": {
           "color": "#2a3f5f"
          },
          "geo": {
           "bgcolor": "white",
           "lakecolor": "white",
           "landcolor": "#E5ECF6",
           "showlakes": true,
           "showland": true,
           "subunitcolor": "white"
          },
          "hoverlabel": {
           "align": "left"
          },
          "hovermode": "closest",
          "mapbox": {
           "style": "light"
          },
          "paper_bgcolor": "white",
          "plot_bgcolor": "#E5ECF6",
          "polar": {
           "angularaxis": {
            "gridcolor": "white",
            "linecolor": "white",
            "ticks": ""
           },
           "bgcolor": "#E5ECF6",
           "radialaxis": {
            "gridcolor": "white",
            "linecolor": "white",
            "ticks": ""
           }
          },
          "scene": {
           "xaxis": {
            "backgroundcolor": "#E5ECF6",
            "gridcolor": "white",
            "gridwidth": 2,
            "linecolor": "white",
            "showbackground": true,
            "ticks": "",
            "zerolinecolor": "white"
           },
           "yaxis": {
            "backgroundcolor": "#E5ECF6",
            "gridcolor": "white",
            "gridwidth": 2,
            "linecolor": "white",
            "showbackground": true,
            "ticks": "",
            "zerolinecolor": "white"
           },
           "zaxis": {
            "backgroundcolor": "#E5ECF6",
            "gridcolor": "white",
            "gridwidth": 2,
            "linecolor": "white",
            "showbackground": true,
            "ticks": "",
            "zerolinecolor": "white"
           }
          },
          "shapedefaults": {
           "line": {
            "color": "#2a3f5f"
           }
          },
          "ternary": {
           "aaxis": {
            "gridcolor": "white",
            "linecolor": "white",
            "ticks": ""
           },
           "baxis": {
            "gridcolor": "white",
            "linecolor": "white",
            "ticks": ""
           },
           "bgcolor": "#E5ECF6",
           "caxis": {
            "gridcolor": "white",
            "linecolor": "white",
            "ticks": ""
           }
          },
          "title": {
           "x": 0.05
          },
          "xaxis": {
           "automargin": true,
           "gridcolor": "white",
           "linecolor": "white",
           "ticks": "",
           "title": {
            "standoff": 15
           },
           "zerolinecolor": "white",
           "zerolinewidth": 2
          },
          "yaxis": {
           "automargin": true,
           "gridcolor": "white",
           "linecolor": "white",
           "ticks": "",
           "title": {
            "standoff": 15
           },
           "zerolinecolor": "white",
           "zerolinewidth": 2
          }
         }
        },
        "title": {
         "text": "Possible hiring outcomes"
        },
        "xaxis": {
         "title": {
          "text": "Option Number"
         }
        },
        "yaxis": {
         "title": {
          "text": "Number of Positions Fulfilled"
         }
        }
       }
      },
      "text/html": [
       "<div>                            <div id=\"1f39daae-0026-456e-990e-ff613a220a41\" class=\"plotly-graph-div\" style=\"height:525px; width:100%;\"></div>            <script type=\"text/javascript\">                require([\"plotly\"], function(Plotly) {                    window.PLOTLYENV=window.PLOTLYENV || {};                                    if (document.getElementById(\"1f39daae-0026-456e-990e-ff613a220a41\")) {                    Plotly.newPlot(                        \"1f39daae-0026-456e-990e-ff613a220a41\",                        [{\"base\":[0.0,0.0,0.0,0.0,0.0,0.0,0.0,0.0,0.0,0.0,0.0,0.0,0.0,0.0,0.0,0.0],\"hoverinfo\":\"text\",\"marker\":{\"color\":\"rgb(44, 160, 44)\"},\"name\":\"Peter\",\"text\":\"Python<br>AI\",\"x\":[1,2,3,4,5,6,7,8,9,10,11,12,13,14,15,16],\"y\":[0.0,0.0,0.0,0.0,1.0,1.0,1.0,1.0,0.0,0.0,0.0,0.0,0.0,0.0,0.0,0.0],\"type\":\"bar\"},{\"base\":[0.0,0.0,0.0,0.0,1.0,1.0,1.0,1.0,0.0,0.0,0.0,0.0,0.0,0.0,0.0,0.0],\"hoverinfo\":\"text\",\"marker\":{\"color\":\"rgb(31, 119, 180)\"},\"name\":\"Juan\",\"text\":\"Web<br>AI\",\"x\":[1,2,3,4,5,6,7,8,9,10,11,12,13,14,15,16],\"y\":[1.0,1.0,0.0,0.0,1.0,1.0,0.0,0.0,1.0,1.0,1.0,1.0,1.0,0.0,0.0,0.0],\"type\":\"bar\"},{\"base\":[1.0,1.0,0.0,0.0,2.0,2.0,1.0,1.0,1.0,1.0,1.0,1.0,1.0,0.0,0.0,0.0],\"hoverinfo\":\"text\",\"marker\":{\"color\":\"rgb(255, 127, 14)\"},\"name\":\"Jim\",\"text\":\"AI<br>Systems\",\"x\":[1,2,3,4,5,6,7,8,9,10,11,12,13,14,15,16],\"y\":[1.0,0.0,1.0,0.0,1.0,0.0,1.0,0.0,1.0,1.0,1.0,0.0,0.0,1.0,1.0,0.0],\"type\":\"bar\"},{\"base\":[2.0,1.0,1.0,0.0,3.0,2.0,2.0,1.0,2.0,2.0,2.0,1.0,1.0,1.0,1.0,0.0],\"hoverinfo\":\"text\",\"marker\":{\"color\":\"rgb(148, 103, 189)\"},\"name\":\"Jane\",\"text\":\"Python<br>Database\",\"x\":[1,2,3,4,5,6,7,8,9,10,11,12,13,14,15,16],\"y\":[1.0,1.0,1.0,1.0,1.0,1.0,1.0,1.0,1.0,1.0,1.0,1.0,1.0,1.0,1.0,1.0],\"type\":\"bar\"},{\"base\":[3.0,2.0,2.0,1.0,4.0,3.0,3.0,2.0,3.0,3.0,3.0,2.0,2.0,2.0,2.0,1.0],\"hoverinfo\":\"text\",\"marker\":{\"color\":\"rgb(140, 86, 75)\"},\"name\":\"Mary\",\"text\":\"Web<br>AI\",\"x\":[1,2,3,4,5,6,7,8,9,10,11,12,13,14,15,16],\"y\":[0.0,0.0,1.0,1.0,0.0,0.0,1.0,1.0,1.0,0.0,0.0,1.0,0.0,1.0,1.0,1.0],\"type\":\"bar\"},{\"base\":[3.0,2.0,3.0,2.0,4.0,3.0,4.0,3.0,4.0,3.0,3.0,3.0,2.0,3.0,3.0,2.0],\"hoverinfo\":\"text\",\"marker\":{\"color\":\"rgb(227, 119, 194)\"},\"name\":\"Bruce\",\"text\":\"Systems<br>Python\",\"x\":[1,2,3,4,5,6,7,8,9,10,11,12,13,14,15,16],\"y\":[0.0,1.0,0.0,1.0,0.0,1.0,0.0,1.0,0.0,1.0,0.0,1.0,1.0,1.0,0.0,1.0],\"type\":\"bar\"},{\"base\":[3.0,3.0,3.0,3.0,4.0,4.0,4.0,4.0,4.0,4.0,3.0,4.0,3.0,4.0,3.0,3.0],\"hoverinfo\":\"text\",\"marker\":{\"color\":\"rgb(127, 127, 127)\"},\"name\":\"Anita\",\"text\":\"Photoshop<br>AI\",\"x\":[1,2,3,4,5,6,7,8,9,10,11,12,13,14,15,16],\"y\":[0.0,0.0,0.0,0.0,0.0,0.0,0.0,0.0,0.0,0.0,1.0,0.0,1.0,0.0,1.0,1.0],\"type\":\"bar\"}],                        {\"barmode\":\"stack\",\"title\":{\"text\":\"Possible hiring outcomes\"},\"xaxis\":{\"title\":{\"text\":\"Option Number\"}},\"yaxis\":{\"title\":{\"text\":\"Number of Positions Fulfilled\"}},\"template\":{\"data\":{\"histogram2dcontour\":[{\"type\":\"histogram2dcontour\",\"colorbar\":{\"outlinewidth\":0,\"ticks\":\"\"},\"colorscale\":[[0.0,\"#0d0887\"],[0.1111111111111111,\"#46039f\"],[0.2222222222222222,\"#7201a8\"],[0.3333333333333333,\"#9c179e\"],[0.4444444444444444,\"#bd3786\"],[0.5555555555555556,\"#d8576b\"],[0.6666666666666666,\"#ed7953\"],[0.7777777777777778,\"#fb9f3a\"],[0.8888888888888888,\"#fdca26\"],[1.0,\"#f0f921\"]]}],\"choropleth\":[{\"type\":\"choropleth\",\"colorbar\":{\"outlinewidth\":0,\"ticks\":\"\"}}],\"histogram2d\":[{\"type\":\"histogram2d\",\"colorbar\":{\"outlinewidth\":0,\"ticks\":\"\"},\"colorscale\":[[0.0,\"#0d0887\"],[0.1111111111111111,\"#46039f\"],[0.2222222222222222,\"#7201a8\"],[0.3333333333333333,\"#9c179e\"],[0.4444444444444444,\"#bd3786\"],[0.5555555555555556,\"#d8576b\"],[0.6666666666666666,\"#ed7953\"],[0.7777777777777778,\"#fb9f3a\"],[0.8888888888888888,\"#fdca26\"],[1.0,\"#f0f921\"]]}],\"heatmap\":[{\"type\":\"heatmap\",\"colorbar\":{\"outlinewidth\":0,\"ticks\":\"\"},\"colorscale\":[[0.0,\"#0d0887\"],[0.1111111111111111,\"#46039f\"],[0.2222222222222222,\"#7201a8\"],[0.3333333333333333,\"#9c179e\"],[0.4444444444444444,\"#bd3786\"],[0.5555555555555556,\"#d8576b\"],[0.6666666666666666,\"#ed7953\"],[0.7777777777777778,\"#fb9f3a\"],[0.8888888888888888,\"#fdca26\"],[1.0,\"#f0f921\"]]}],\"heatmapgl\":[{\"type\":\"heatmapgl\",\"colorbar\":{\"outlinewidth\":0,\"ticks\":\"\"},\"colorscale\":[[0.0,\"#0d0887\"],[0.1111111111111111,\"#46039f\"],[0.2222222222222222,\"#7201a8\"],[0.3333333333333333,\"#9c179e\"],[0.4444444444444444,\"#bd3786\"],[0.5555555555555556,\"#d8576b\"],[0.6666666666666666,\"#ed7953\"],[0.7777777777777778,\"#fb9f3a\"],[0.8888888888888888,\"#fdca26\"],[1.0,\"#f0f921\"]]}],\"contourcarpet\":[{\"type\":\"contourcarpet\",\"colorbar\":{\"outlinewidth\":0,\"ticks\":\"\"}}],\"contour\":[{\"type\":\"contour\",\"colorbar\":{\"outlinewidth\":0,\"ticks\":\"\"},\"colorscale\":[[0.0,\"#0d0887\"],[0.1111111111111111,\"#46039f\"],[0.2222222222222222,\"#7201a8\"],[0.3333333333333333,\"#9c179e\"],[0.4444444444444444,\"#bd3786\"],[0.5555555555555556,\"#d8576b\"],[0.6666666666666666,\"#ed7953\"],[0.7777777777777778,\"#fb9f3a\"],[0.8888888888888888,\"#fdca26\"],[1.0,\"#f0f921\"]]}],\"surface\":[{\"type\":\"surface\",\"colorbar\":{\"outlinewidth\":0,\"ticks\":\"\"},\"colorscale\":[[0.0,\"#0d0887\"],[0.1111111111111111,\"#46039f\"],[0.2222222222222222,\"#7201a8\"],[0.3333333333333333,\"#9c179e\"],[0.4444444444444444,\"#bd3786\"],[0.5555555555555556,\"#d8576b\"],[0.6666666666666666,\"#ed7953\"],[0.7777777777777778,\"#fb9f3a\"],[0.8888888888888888,\"#fdca26\"],[1.0,\"#f0f921\"]]}],\"mesh3d\":[{\"type\":\"mesh3d\",\"colorbar\":{\"outlinewidth\":0,\"ticks\":\"\"}}],\"scatter\":[{\"fillpattern\":{\"fillmode\":\"overlay\",\"size\":10,\"solidity\":0.2},\"type\":\"scatter\"}],\"parcoords\":[{\"type\":\"parcoords\",\"line\":{\"colorbar\":{\"outlinewidth\":0,\"ticks\":\"\"}}}],\"scatterpolargl\":[{\"type\":\"scatterpolargl\",\"marker\":{\"colorbar\":{\"outlinewidth\":0,\"ticks\":\"\"}}}],\"bar\":[{\"error_x\":{\"color\":\"#2a3f5f\"},\"error_y\":{\"color\":\"#2a3f5f\"},\"marker\":{\"line\":{\"color\":\"#E5ECF6\",\"width\":0.5},\"pattern\":{\"fillmode\":\"overlay\",\"size\":10,\"solidity\":0.2}},\"type\":\"bar\"}],\"scattergeo\":[{\"type\":\"scattergeo\",\"marker\":{\"colorbar\":{\"outlinewidth\":0,\"ticks\":\"\"}}}],\"scatterpolar\":[{\"type\":\"scatterpolar\",\"marker\":{\"colorbar\":{\"outlinewidth\":0,\"ticks\":\"\"}}}],\"histogram\":[{\"marker\":{\"pattern\":{\"fillmode\":\"overlay\",\"size\":10,\"solidity\":0.2}},\"type\":\"histogram\"}],\"scattergl\":[{\"type\":\"scattergl\",\"marker\":{\"colorbar\":{\"outlinewidth\":0,\"ticks\":\"\"}}}],\"scatter3d\":[{\"type\":\"scatter3d\",\"line\":{\"colorbar\":{\"outlinewidth\":0,\"ticks\":\"\"}},\"marker\":{\"colorbar\":{\"outlinewidth\":0,\"ticks\":\"\"}}}],\"scattermapbox\":[{\"type\":\"scattermapbox\",\"marker\":{\"colorbar\":{\"outlinewidth\":0,\"ticks\":\"\"}}}],\"scatterternary\":[{\"type\":\"scatterternary\",\"marker\":{\"colorbar\":{\"outlinewidth\":0,\"ticks\":\"\"}}}],\"scattercarpet\":[{\"type\":\"scattercarpet\",\"marker\":{\"colorbar\":{\"outlinewidth\":0,\"ticks\":\"\"}}}],\"carpet\":[{\"aaxis\":{\"endlinecolor\":\"#2a3f5f\",\"gridcolor\":\"white\",\"linecolor\":\"white\",\"minorgridcolor\":\"white\",\"startlinecolor\":\"#2a3f5f\"},\"baxis\":{\"endlinecolor\":\"#2a3f5f\",\"gridcolor\":\"white\",\"linecolor\":\"white\",\"minorgridcolor\":\"white\",\"startlinecolor\":\"#2a3f5f\"},\"type\":\"carpet\"}],\"table\":[{\"cells\":{\"fill\":{\"color\":\"#EBF0F8\"},\"line\":{\"color\":\"white\"}},\"header\":{\"fill\":{\"color\":\"#C8D4E3\"},\"line\":{\"color\":\"white\"}},\"type\":\"table\"}],\"barpolar\":[{\"marker\":{\"line\":{\"color\":\"#E5ECF6\",\"width\":0.5},\"pattern\":{\"fillmode\":\"overlay\",\"size\":10,\"solidity\":0.2}},\"type\":\"barpolar\"}],\"pie\":[{\"automargin\":true,\"type\":\"pie\"}]},\"layout\":{\"autotypenumbers\":\"strict\",\"colorway\":[\"#636efa\",\"#EF553B\",\"#00cc96\",\"#ab63fa\",\"#FFA15A\",\"#19d3f3\",\"#FF6692\",\"#B6E880\",\"#FF97FF\",\"#FECB52\"],\"font\":{\"color\":\"#2a3f5f\"},\"hovermode\":\"closest\",\"hoverlabel\":{\"align\":\"left\"},\"paper_bgcolor\":\"white\",\"plot_bgcolor\":\"#E5ECF6\",\"polar\":{\"bgcolor\":\"#E5ECF6\",\"angularaxis\":{\"gridcolor\":\"white\",\"linecolor\":\"white\",\"ticks\":\"\"},\"radialaxis\":{\"gridcolor\":\"white\",\"linecolor\":\"white\",\"ticks\":\"\"}},\"ternary\":{\"bgcolor\":\"#E5ECF6\",\"aaxis\":{\"gridcolor\":\"white\",\"linecolor\":\"white\",\"ticks\":\"\"},\"baxis\":{\"gridcolor\":\"white\",\"linecolor\":\"white\",\"ticks\":\"\"},\"caxis\":{\"gridcolor\":\"white\",\"linecolor\":\"white\",\"ticks\":\"\"}},\"coloraxis\":{\"colorbar\":{\"outlinewidth\":0,\"ticks\":\"\"}},\"colorscale\":{\"sequential\":[[0.0,\"#0d0887\"],[0.1111111111111111,\"#46039f\"],[0.2222222222222222,\"#7201a8\"],[0.3333333333333333,\"#9c179e\"],[0.4444444444444444,\"#bd3786\"],[0.5555555555555556,\"#d8576b\"],[0.6666666666666666,\"#ed7953\"],[0.7777777777777778,\"#fb9f3a\"],[0.8888888888888888,\"#fdca26\"],[1.0,\"#f0f921\"]],\"sequentialminus\":[[0.0,\"#0d0887\"],[0.1111111111111111,\"#46039f\"],[0.2222222222222222,\"#7201a8\"],[0.3333333333333333,\"#9c179e\"],[0.4444444444444444,\"#bd3786\"],[0.5555555555555556,\"#d8576b\"],[0.6666666666666666,\"#ed7953\"],[0.7777777777777778,\"#fb9f3a\"],[0.8888888888888888,\"#fdca26\"],[1.0,\"#f0f921\"]],\"diverging\":[[0,\"#8e0152\"],[0.1,\"#c51b7d\"],[0.2,\"#de77ae\"],[0.3,\"#f1b6da\"],[0.4,\"#fde0ef\"],[0.5,\"#f7f7f7\"],[0.6,\"#e6f5d0\"],[0.7,\"#b8e186\"],[0.8,\"#7fbc41\"],[0.9,\"#4d9221\"],[1,\"#276419\"]]},\"xaxis\":{\"gridcolor\":\"white\",\"linecolor\":\"white\",\"ticks\":\"\",\"title\":{\"standoff\":15},\"zerolinecolor\":\"white\",\"automargin\":true,\"zerolinewidth\":2},\"yaxis\":{\"gridcolor\":\"white\",\"linecolor\":\"white\",\"ticks\":\"\",\"title\":{\"standoff\":15},\"zerolinecolor\":\"white\",\"automargin\":true,\"zerolinewidth\":2},\"scene\":{\"xaxis\":{\"backgroundcolor\":\"#E5ECF6\",\"gridcolor\":\"white\",\"linecolor\":\"white\",\"showbackground\":true,\"ticks\":\"\",\"zerolinecolor\":\"white\",\"gridwidth\":2},\"yaxis\":{\"backgroundcolor\":\"#E5ECF6\",\"gridcolor\":\"white\",\"linecolor\":\"white\",\"showbackground\":true,\"ticks\":\"\",\"zerolinecolor\":\"white\",\"gridwidth\":2},\"zaxis\":{\"backgroundcolor\":\"#E5ECF6\",\"gridcolor\":\"white\",\"linecolor\":\"white\",\"showbackground\":true,\"ticks\":\"\",\"zerolinecolor\":\"white\",\"gridwidth\":2}},\"shapedefaults\":{\"line\":{\"color\":\"#2a3f5f\"}},\"annotationdefaults\":{\"arrowcolor\":\"#2a3f5f\",\"arrowhead\":0,\"arrowwidth\":1},\"geo\":{\"bgcolor\":\"white\",\"landcolor\":\"#E5ECF6\",\"subunitcolor\":\"white\",\"showland\":true,\"showlakes\":true,\"lakecolor\":\"white\"},\"title\":{\"x\":0.05},\"mapbox\":{\"style\":\"light\"}}}},                        {\"responsive\": true}                    ).then(function(){\n",
       "                            \n",
       "var gd = document.getElementById('1f39daae-0026-456e-990e-ff613a220a41');\n",
       "var x = new MutationObserver(function (mutations, observer) {{\n",
       "        var display = window.getComputedStyle(gd).display;\n",
       "        if (!display || display === 'none') {{\n",
       "            console.log([gd, 'removed!']);\n",
       "            Plotly.purge(gd);\n",
       "            observer.disconnect();\n",
       "        }}\n",
       "}});\n",
       "\n",
       "// Listen for the removal of the full notebook cells\n",
       "var notebookContainer = gd.closest('#notebook-container');\n",
       "if (notebookContainer) {{\n",
       "    x.observe(notebookContainer, {childList: true});\n",
       "}}\n",
       "\n",
       "// Listen for the clearing of the current output cell\n",
       "var outputEl = gd.closest('.output');\n",
       "if (outputEl) {{\n",
       "    x.observe(outputEl, {childList: true});\n",
       "}}\n",
       "\n",
       "                        })                };                });            </script>        </div>"
      ]
     },
     "metadata": {},
     "output_type": "display_data"
    }
   ],
   "source": [
    "# imports\n",
    "import numpy as np\n",
    "import plotly.graph_objs as go\n",
    "\n",
    "# defining people and their skills\n",
    "people = {\n",
    "    'Peter': ['Python', 'AI'],\n",
    "    'Juan': ['Web', 'AI'],\n",
    "    'Jim': ['AI', 'Systems'],\n",
    "    'Jane': ['Python', 'Database'],\n",
    "    'Mary': ['Web', 'AI'],\n",
    "    'Bruce': ['Systems', 'Python'],\n",
    "    'Anita': ['Photoshop', 'AI']\n",
    "}\n",
    "\n",
    "# defining positions needed\n",
    "positions = {\n",
    "    'Python Programmer': 2,\n",
    "    'AI Engineer': 3, # now updating for 3 engineers needed\n",
    "    'Web Designer': 1,\n",
    "    'Database Admin': 1,\n",
    "    'Systems Engineer': 1\n",
    "}\n",
    "\n",
    "# solutions\n",
    "solutions = [\n",
    "    ('Juan', 'Jim', 'Jane'),\n",
    "    ('Juan', 'Jane', 'Bruce'),\n",
    "    ('Jim', 'Jane', 'Mary'),\n",
    "    ('Jane', 'Mary', 'Bruce'),\n",
    "    ('Peter', 'Juan', 'Jim', 'Jane'),\n",
    "    ('Peter', 'Juan', 'Jane', 'Bruce'),\n",
    "    ('Peter', 'Jim', 'Jane', 'Mary'),\n",
    "    ('Peter', 'Jane', 'Mary', 'Bruce'),\n",
    "    ('Juan', 'Jim', 'Jane', 'Mary'),\n",
    "    ('Juan', 'Jim', 'Jane', 'Bruce'),\n",
    "    ('Juan', 'Jim', 'Jane', 'Anita'),\n",
    "    ('Juan', 'Jane', 'Mary', 'Bruce'),\n",
    "    ('Juan', 'Jane', 'Bruce', 'Anita'),\n",
    "    ('Jim', 'Jane', 'Mary', 'Bruce'),\n",
    "    ('Jim', 'Jane', 'Mary', 'Anita'),\n",
    "    ('Jane', 'Mary', 'Bruce', 'Anita')\n",
    "]\n",
    "\n",
    "# all people involved list\n",
    "all_people = list(people.keys())\n",
    "\n",
    "# matrix to hold positions for each person across different solutions\n",
    "positions_matrix = np.zeros((len(all_people), len(solutions)))\n",
    "\n",
    "# loop to fill up the matrix with the positions fulfilled by each person across options\n",
    "for i, person in enumerate(all_people):\n",
    "    for j, solution in enumerate(solutions):\n",
    "        positions_count = sum([1 for role in solution if role == person])\n",
    "        positions_matrix[i, j] = positions_count\n",
    "\n",
    "# creation of a list of strings, by joing 'people' dictionary based on the keys obtained by all_people\n",
    "data = []\n",
    "bottom = np.zeros(len(solutions))\n",
    "\n",
    "hover_text = [\n",
    "    \"<br>\".join(people[all_people[i]]) for i in range(len(all_people))\n",
    "]\n",
    "\n",
    "# define colors for each person\n",
    "colors = ['rgb(44, 160, 44)', 'rgb(31, 119, 180)', 'rgb(255, 127, 14)',\n",
    "          'rgb(148, 103, 189)', 'rgb(140, 86, 75)', 'rgb(227, 119, 194)', 'rgb(127, 127, 127)']\n",
    "\n",
    "# plot\n",
    "for i, person in enumerate(all_people):\n",
    "    trace = go.Bar(\n",
    "        x=np.arange(len(solutions)) + 1,\n",
    "        y=positions_matrix[i, :],\n",
    "        name=person,\n",
    "        text=hover_text[i],\n",
    "        hoverinfo='text',\n",
    "        marker=dict(color=colors[i]),\n",
    "        base=bottom\n",
    "    )\n",
    "    bottom += positions_matrix[i, :]\n",
    "    data.append(trace)\n",
    "\n",
    "# plot\n",
    "layout = go.Layout(\n",
    "    title='Possible hiring outcomes',\n",
    "    xaxis=dict(title='Option Number'),\n",
    "    yaxis=dict(title='Number of Positions Fulfilled'),\n",
    "    barmode='stack'\n",
    ")\n",
    "\n",
    "# plot\n",
    "fig = go.Figure(data=data, layout=layout)\n",
    "fig.show()\n"
   ]
  },
  {
   "cell_type": "markdown",
   "id": "2337b9aa",
   "metadata": {},
   "source": [
    "# Question 3\n",
    "### Creation of a GUI (Graphic User Interface) to enable the user to alternate between different contraint scenarios"
   ]
  },
  {
   "cell_type": "code",
   "execution_count": null,
   "id": "c162a334",
   "metadata": {},
   "outputs": [],
   "source": [
    "# imports \n",
    "import tkinter as tk\n",
    "from tkinter import messagebox\n",
    "\n",
    "# define the available roles and their corresponding number of required employees\n",
    "roles = {\n",
    "    \"Python Programmer\": 2,\n",
    "    \"AI Engineer\": 2,\n",
    "    \"Web Designer\": 1,\n",
    "    \"Database Admin\": 1,\n",
    "    \"Systems Engineer\": 1\n",
    "}\n",
    "\n",
    "# define the individuals and their abilities\n",
    "individuals = {\n",
    "    \"Peter\": [\"Python\", \"AI\"],\n",
    "    \"Juan\": [\"Web\", \"AI\"],\n",
    "    \"Jim\": [\"AI\", \"Systems\"],\n",
    "    \"Jane\": [\"Python\", \"Database\"],\n",
    "    \"Mary\": [\"Web\", \"AI\"],\n",
    "    \"Bruce\": [\"Systems\", \"Python\"],\n",
    "    \"Anita\": [\"Photoshop\", \"AI\"]\n",
    "}\n",
    "\n",
    "# function to assign roles based on abilities and constraints\n",
    "def assign_roles():\n",
    "    assigned_roles = {role: 0 for role in roles}\n",
    "    role_assignment = {}\n",
    "    # loop to iterate through abilities \n",
    "    # assign roles to individuals based on their abilities considering the maximum number of employees allowed in each role \n",
    "    for person, abilities in individuals.items():\n",
    "        for ability in abilities:\n",
    "            for role, count in assigned_roles.items():\n",
    "                if count < roles[role] and ability in role and person not in role_assignment.values():\n",
    "                    assigned_roles[role] += 1\n",
    "                    role_assignment[person] = role\n",
    "                    break\n",
    "\n",
    "    return role_assignment\n",
    "\n",
    "# function to update the constraints based on user input\n",
    "def update_constraints():\n",
    "    \n",
    "    # get constraint values from user input\n",
    "    roles[\"Python Programmer\"] = int(python_programmer_entry.get())\n",
    "    roles[\"AI Engineer\"] = int(ai_engineer_entry.get())\n",
    "    roles[\"Web Designer\"] = int(web_designer_entry.get())\n",
    "    roles[\"Database Admin\"] = int(database_admin_entry.get())\n",
    "    roles[\"Systems Engineer\"] = int(systems_engineer_entry.get())\n",
    "\n",
    "    # assign roles based on updated constraints - update the constraints\n",
    "    updated_roles = assign_roles()\n",
    "\n",
    "    # display the updated role assignments in the Graphic user interface\n",
    "    result_text.delete(1.0, tk.END)\n",
    "    for person, role in updated_roles.items():\n",
    "        result_text.insert(tk.END, f\"{person} - {role}\\n\")\n",
    "\n",
    "    # show confirmation message to the user \n",
    "    messagebox.showinfo(\"Constraints Updated\", \"Constraints updated successfully!\")\n",
    "\n",
    "# initialize tkinter\n",
    "root = tk.Tk()\n",
    "root.title(\"Constraint Scenarios Explorer\")\n",
    "\n",
    "# create Labels\n",
    "label = tk.Label(root, text=\"Set Constraints:\")\n",
    "label.grid(row=0, column=0, columnspan=2, padx=10, pady=10)\n",
    "\n",
    "# create Labels for inputs\n",
    "python_programmer_label = tk.Label(root, text=\"Python Programmer:\")\n",
    "python_programmer_label.grid(row=1, column=0, padx=10, pady=5, sticky=\"E\")\n",
    "ai_engineer_label = tk.Label(root, text=\"AI Engineer:\")\n",
    "ai_engineer_label.grid(row=2, column=0, padx=10, pady=5, sticky=\"E\")\n",
    "web_designer_label = tk.Label(root, text=\"Web Designer:\")\n",
    "web_designer_label.grid(row=3, column=0, padx=10, pady=5, sticky=\"E\")\n",
    "database_admin_label = tk.Label(root, text=\"Database Admin:\")\n",
    "database_admin_label.grid(row=4, column=0, padx=10, pady=5, sticky=\"E\")\n",
    "systems_engineer_label = tk.Label(root, text=\"Systems Engineer:\")\n",
    "systems_engineer_label.grid(row=5, column=0, padx=10, pady=5, sticky=\"E\")\n",
    "\n",
    "# create Entry fields for constraints\n",
    "python_programmer_entry = tk.Entry(root)\n",
    "python_programmer_entry.grid(row=1, column=1, padx=10, pady=5)\n",
    "ai_engineer_entry = tk.Entry(root)\n",
    "ai_engineer_entry.grid(row=2, column=1, padx=10, pady=5)\n",
    "web_designer_entry = tk.Entry(root)\n",
    "web_designer_entry.grid(row=3, column=1, padx=10, pady=5)\n",
    "database_admin_entry = tk.Entry(root)\n",
    "database_admin_entry.grid(row=4, column=1, padx=10, pady=5)\n",
    "systems_engineer_entry = tk.Entry(root)\n",
    "systems_engineer_entry.grid(row=5, column=1, padx=10, pady=5)\n",
    "\n",
    "# button to update constraints\n",
    "update_button = tk.Button(root, text=\"Update Constraints\", command=update_constraints)\n",
    "update_button.grid(row=6, column=0, columnspan=2, padx=10, pady=10)\n",
    "\n",
    "# text area to display role assignments\n",
    "result_text = tk.Text(root, height=10, width=40)\n",
    "result_text.grid(row=7, column=0, columnspan=2, padx=10, pady=10)\n",
    "\n",
    "# start GUI event loop\n",
    "root.mainloop()\n"
   ]
  },
  {
   "cell_type": "code",
   "execution_count": null,
   "id": "daf6832e",
   "metadata": {},
   "outputs": [],
   "source": []
  }
 ],
 "metadata": {
  "kernelspec": {
   "display_name": "Python 3 (ipykernel)",
   "language": "python",
   "name": "python3"
  },
  "language_info": {
   "codemirror_mode": {
    "name": "ipython",
    "version": 3
   },
   "file_extension": ".py",
   "mimetype": "text/x-python",
   "name": "python",
   "nbconvert_exporter": "python",
   "pygments_lexer": "ipython3",
   "version": "3.9.7"
  }
 },
 "nbformat": 4,
 "nbformat_minor": 5
}
